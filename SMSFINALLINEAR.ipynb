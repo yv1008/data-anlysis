{
 "cells": [
  {
   "cell_type": "code",
   "execution_count": 1,
   "metadata": {},
   "outputs": [],
   "source": [
    "import pandas as pd\n",
    "import numpy as np"
   ]
  },
  {
   "cell_type": "code",
   "execution_count": 2,
   "metadata": {},
   "outputs": [
    {
     "data": {
      "text/html": [
       "<div>\n",
       "<style scoped>\n",
       "    .dataframe tbody tr th:only-of-type {\n",
       "        vertical-align: middle;\n",
       "    }\n",
       "\n",
       "    .dataframe tbody tr th {\n",
       "        vertical-align: top;\n",
       "    }\n",
       "\n",
       "    .dataframe thead th {\n",
       "        text-align: right;\n",
       "    }\n",
       "</style>\n",
       "<table border=\"1\" class=\"dataframe\">\n",
       "  <thead>\n",
       "    <tr style=\"text-align: right;\">\n",
       "      <th></th>\n",
       "      <th>serial</th>\n",
       "      <th>date</th>\n",
       "      <th>heat</th>\n",
       "      <th>avg heat size mt</th>\n",
       "      <th>total production</th>\n",
       "      <th>F/C unit</th>\n",
       "      <th>aux unit</th>\n",
       "      <th>total Unit</th>\n",
       "      <th>si-MN Cosumption (KG/MT)</th>\n",
       "    </tr>\n",
       "  </thead>\n",
       "  <tbody>\n",
       "    <tr>\n",
       "      <th>0</th>\n",
       "      <td>1</td>\n",
       "      <td>2021.1.01</td>\n",
       "      <td>43</td>\n",
       "      <td>17.547896</td>\n",
       "      <td>633.830</td>\n",
       "      <td>809.41</td>\n",
       "      <td>45.62</td>\n",
       "      <td>844.04</td>\n",
       "      <td>344.04</td>\n",
       "    </tr>\n",
       "    <tr>\n",
       "      <th>1</th>\n",
       "      <td>2</td>\n",
       "      <td>2021.1.02</td>\n",
       "      <td>40</td>\n",
       "      <td>17.753780</td>\n",
       "      <td>596.527</td>\n",
       "      <td>813.26</td>\n",
       "      <td>48.07</td>\n",
       "      <td>861.00</td>\n",
       "      <td>361.00</td>\n",
       "    </tr>\n",
       "    <tr>\n",
       "      <th>2</th>\n",
       "      <td>3</td>\n",
       "      <td>2021.1.03</td>\n",
       "      <td>37</td>\n",
       "      <td>18.160843</td>\n",
       "      <td>564.439</td>\n",
       "      <td>783.28</td>\n",
       "      <td>45.93</td>\n",
       "      <td>830.03</td>\n",
       "      <td>330.03</td>\n",
       "    </tr>\n",
       "    <tr>\n",
       "      <th>3</th>\n",
       "      <td>4</td>\n",
       "      <td>2021.1.04</td>\n",
       "      <td>16</td>\n",
       "      <td>17.972396</td>\n",
       "      <td>241.549</td>\n",
       "      <td>1047.70</td>\n",
       "      <td>51.36</td>\n",
       "      <td>842.02</td>\n",
       "      <td>342.02</td>\n",
       "    </tr>\n",
       "    <tr>\n",
       "      <th>4</th>\n",
       "      <td>5</td>\n",
       "      <td>2021.1.05</td>\n",
       "      <td>42</td>\n",
       "      <td>17.862783</td>\n",
       "      <td>630.199</td>\n",
       "      <td>802.27</td>\n",
       "      <td>46.62</td>\n",
       "      <td>848.89</td>\n",
       "      <td>348.89</td>\n",
       "    </tr>\n",
       "    <tr>\n",
       "      <th>5</th>\n",
       "      <td>6</td>\n",
       "      <td>2021.1.06</td>\n",
       "      <td>37</td>\n",
       "      <td>18.290444</td>\n",
       "      <td>568.467</td>\n",
       "      <td>811.41</td>\n",
       "      <td>45.17</td>\n",
       "      <td>856.58</td>\n",
       "      <td>356.58</td>\n",
       "    </tr>\n",
       "    <tr>\n",
       "      <th>6</th>\n",
       "      <td>7</td>\n",
       "      <td>2021.1.07</td>\n",
       "      <td>44</td>\n",
       "      <td>18.328084</td>\n",
       "      <td>677.406</td>\n",
       "      <td>781.91</td>\n",
       "      <td>40.78</td>\n",
       "      <td>822.69</td>\n",
       "      <td>322.69</td>\n",
       "    </tr>\n",
       "    <tr>\n",
       "      <th>7</th>\n",
       "      <td>8</td>\n",
       "      <td>2021.1.08</td>\n",
       "      <td>42</td>\n",
       "      <td>17.859666</td>\n",
       "      <td>630.089</td>\n",
       "      <td>793.18</td>\n",
       "      <td>48.53</td>\n",
       "      <td>841.71</td>\n",
       "      <td>341.71</td>\n",
       "    </tr>\n",
       "    <tr>\n",
       "      <th>8</th>\n",
       "      <td>9</td>\n",
       "      <td>2021.1.09</td>\n",
       "      <td>45</td>\n",
       "      <td>17.781058</td>\n",
       "      <td>672.124</td>\n",
       "      <td>788.26</td>\n",
       "      <td>44.57</td>\n",
       "      <td>832.83</td>\n",
       "      <td>332.83</td>\n",
       "    </tr>\n",
       "    <tr>\n",
       "      <th>9</th>\n",
       "      <td>10</td>\n",
       "      <td>2021.1.10</td>\n",
       "      <td>41</td>\n",
       "      <td>17.732927</td>\n",
       "      <td>610.722</td>\n",
       "      <td>821.69</td>\n",
       "      <td>47.19</td>\n",
       "      <td>868.88</td>\n",
       "      <td>368.88</td>\n",
       "    </tr>\n",
       "    <tr>\n",
       "      <th>10</th>\n",
       "      <td>11</td>\n",
       "      <td>2021.1.11</td>\n",
       "      <td>47</td>\n",
       "      <td>17.542857</td>\n",
       "      <td>692.592</td>\n",
       "      <td>781.33</td>\n",
       "      <td>42.21</td>\n",
       "      <td>823.54</td>\n",
       "      <td>323.54</td>\n",
       "    </tr>\n",
       "    <tr>\n",
       "      <th>11</th>\n",
       "      <td>12</td>\n",
       "      <td>2021.1.12</td>\n",
       "      <td>45</td>\n",
       "      <td>18.153677</td>\n",
       "      <td>686.209</td>\n",
       "      <td>796.28</td>\n",
       "      <td>43.13</td>\n",
       "      <td>839.41</td>\n",
       "      <td>339.41</td>\n",
       "    </tr>\n",
       "    <tr>\n",
       "      <th>12</th>\n",
       "      <td>13</td>\n",
       "      <td>2021.1.13</td>\n",
       "      <td>45</td>\n",
       "      <td>17.781058</td>\n",
       "      <td>672.124</td>\n",
       "      <td>794.49</td>\n",
       "      <td>41.80</td>\n",
       "      <td>836.29</td>\n",
       "      <td>321.78</td>\n",
       "    </tr>\n",
       "    <tr>\n",
       "      <th>13</th>\n",
       "      <td>14</td>\n",
       "      <td>2021.1.14</td>\n",
       "      <td>47</td>\n",
       "      <td>17.726798</td>\n",
       "      <td>699.854</td>\n",
       "      <td>791.21</td>\n",
       "      <td>39.97</td>\n",
       "      <td>831.18</td>\n",
       "      <td>331.18</td>\n",
       "    </tr>\n",
       "    <tr>\n",
       "      <th>14</th>\n",
       "      <td>15</td>\n",
       "      <td>2021.1.15</td>\n",
       "      <td>46</td>\n",
       "      <td>18.043815</td>\n",
       "      <td>697.213</td>\n",
       "      <td>789.43</td>\n",
       "      <td>41.19</td>\n",
       "      <td>830.62</td>\n",
       "      <td>330.62</td>\n",
       "    </tr>\n",
       "    <tr>\n",
       "      <th>15</th>\n",
       "      <td>16</td>\n",
       "      <td>2021.1.16</td>\n",
       "      <td>45</td>\n",
       "      <td>17.843677</td>\n",
       "      <td>674.491</td>\n",
       "      <td>797.16</td>\n",
       "      <td>41.90</td>\n",
       "      <td>839.06</td>\n",
       "      <td>339.06</td>\n",
       "    </tr>\n",
       "    <tr>\n",
       "      <th>16</th>\n",
       "      <td>17</td>\n",
       "      <td>2021.1.17</td>\n",
       "      <td>43</td>\n",
       "      <td>17.715476</td>\n",
       "      <td>639.883</td>\n",
       "      <td>792.77</td>\n",
       "      <td>46.35</td>\n",
       "      <td>839.12</td>\n",
       "      <td>339.12</td>\n",
       "    </tr>\n",
       "    <tr>\n",
       "      <th>17</th>\n",
       "      <td>18</td>\n",
       "      <td>2021.1.18</td>\n",
       "      <td>46</td>\n",
       "      <td>16.881910</td>\n",
       "      <td>652.317</td>\n",
       "      <td>796.33</td>\n",
       "      <td>39.95</td>\n",
       "      <td>836.28</td>\n",
       "      <td>336.28</td>\n",
       "    </tr>\n",
       "    <tr>\n",
       "      <th>18</th>\n",
       "      <td>19</td>\n",
       "      <td>2021.1.19</td>\n",
       "      <td>46</td>\n",
       "      <td>17.539752</td>\n",
       "      <td>677.736</td>\n",
       "      <td>800.14</td>\n",
       "      <td>46.57</td>\n",
       "      <td>846.71</td>\n",
       "      <td>346.71</td>\n",
       "    </tr>\n",
       "    <tr>\n",
       "      <th>19</th>\n",
       "      <td>20</td>\n",
       "      <td>2021.1.20</td>\n",
       "      <td>45</td>\n",
       "      <td>17.827646</td>\n",
       "      <td>673.885</td>\n",
       "      <td>799.53</td>\n",
       "      <td>43.46</td>\n",
       "      <td>842.99</td>\n",
       "      <td>342.99</td>\n",
       "    </tr>\n",
       "    <tr>\n",
       "      <th>20</th>\n",
       "      <td>21</td>\n",
       "      <td>2021.1.21</td>\n",
       "      <td>44</td>\n",
       "      <td>17.741558</td>\n",
       "      <td>655.728</td>\n",
       "      <td>802.91</td>\n",
       "      <td>42.56</td>\n",
       "      <td>845.47</td>\n",
       "      <td>345.48</td>\n",
       "    </tr>\n",
       "    <tr>\n",
       "      <th>21</th>\n",
       "      <td>22</td>\n",
       "      <td>2021.1.22</td>\n",
       "      <td>45</td>\n",
       "      <td>18.270132</td>\n",
       "      <td>690.611</td>\n",
       "      <td>794.66</td>\n",
       "      <td>45.32</td>\n",
       "      <td>839.98</td>\n",
       "      <td>340.00</td>\n",
       "    </tr>\n",
       "    <tr>\n",
       "      <th>22</th>\n",
       "      <td>23</td>\n",
       "      <td>2021.1.23</td>\n",
       "      <td>45</td>\n",
       "      <td>17.824735</td>\n",
       "      <td>673.775</td>\n",
       "      <td>796.09</td>\n",
       "      <td>40.24</td>\n",
       "      <td>836.33</td>\n",
       "      <td>337.00</td>\n",
       "    </tr>\n",
       "    <tr>\n",
       "      <th>23</th>\n",
       "      <td>24</td>\n",
       "      <td>2021.1.24</td>\n",
       "      <td>44</td>\n",
       "      <td>18.304275</td>\n",
       "      <td>676.526</td>\n",
       "      <td>791.43</td>\n",
       "      <td>45.48</td>\n",
       "      <td>836.91</td>\n",
       "      <td>337.00</td>\n",
       "    </tr>\n",
       "    <tr>\n",
       "      <th>24</th>\n",
       "      <td>25</td>\n",
       "      <td>2021.1.25</td>\n",
       "      <td>45</td>\n",
       "      <td>18.444788</td>\n",
       "      <td>697.213</td>\n",
       "      <td>784.91</td>\n",
       "      <td>43.40</td>\n",
       "      <td>828.31</td>\n",
       "      <td>328.31</td>\n",
       "    </tr>\n",
       "    <tr>\n",
       "      <th>25</th>\n",
       "      <td>26</td>\n",
       "      <td>2021.1.26</td>\n",
       "      <td>45</td>\n",
       "      <td>18.043069</td>\n",
       "      <td>682.028</td>\n",
       "      <td>787.71</td>\n",
       "      <td>40.82</td>\n",
       "      <td>828.53</td>\n",
       "      <td>328.51</td>\n",
       "    </tr>\n",
       "    <tr>\n",
       "      <th>26</th>\n",
       "      <td>27</td>\n",
       "      <td>2021.1.27</td>\n",
       "      <td>46</td>\n",
       "      <td>17.729995</td>\n",
       "      <td>685.087</td>\n",
       "      <td>778.51</td>\n",
       "      <td>43.85</td>\n",
       "      <td>822.36</td>\n",
       "      <td>322.00</td>\n",
       "    </tr>\n",
       "    <tr>\n",
       "      <th>27</th>\n",
       "      <td>28</td>\n",
       "      <td>2021.1.28</td>\n",
       "      <td>46</td>\n",
       "      <td>17.441511</td>\n",
       "      <td>673.940</td>\n",
       "      <td>791.96</td>\n",
       "      <td>45.91</td>\n",
       "      <td>837.87</td>\n",
       "      <td>338.00</td>\n",
       "    </tr>\n",
       "    <tr>\n",
       "      <th>28</th>\n",
       "      <td>29</td>\n",
       "      <td>2021.1.29</td>\n",
       "      <td>45</td>\n",
       "      <td>17.502000</td>\n",
       "      <td>661.560</td>\n",
       "      <td>785.10</td>\n",
       "      <td>43.91</td>\n",
       "      <td>829.01</td>\n",
       "      <td>329.00</td>\n",
       "    </tr>\n",
       "    <tr>\n",
       "      <th>29</th>\n",
       "      <td>30</td>\n",
       "      <td>2021.1.30</td>\n",
       "      <td>45</td>\n",
       "      <td>18.105952</td>\n",
       "      <td>684.405</td>\n",
       "      <td>789.23</td>\n",
       "      <td>42.27</td>\n",
       "      <td>831.50</td>\n",
       "      <td>331.50</td>\n",
       "    </tr>\n",
       "    <tr>\n",
       "      <th>30</th>\n",
       "      <td>31</td>\n",
       "      <td>2021.1.31</td>\n",
       "      <td>46</td>\n",
       "      <td>17.884343</td>\n",
       "      <td>691.051</td>\n",
       "      <td>785.07</td>\n",
       "      <td>42.19</td>\n",
       "      <td>827.26</td>\n",
       "      <td>327.26</td>\n",
       "    </tr>\n",
       "  </tbody>\n",
       "</table>\n",
       "</div>"
      ],
      "text/plain": [
       "    serial       date  heat  avg heat size mt  total production   F/C unit  \\\n",
       "0        1  2021.1.01    43         17.547896            633.830    809.41   \n",
       "1        2  2021.1.02    40         17.753780            596.527    813.26   \n",
       "2        3  2021.1.03    37         18.160843            564.439    783.28   \n",
       "3        4  2021.1.04    16         17.972396            241.549   1047.70   \n",
       "4        5  2021.1.05    42         17.862783            630.199    802.27   \n",
       "5        6  2021.1.06    37         18.290444            568.467    811.41   \n",
       "6        7  2021.1.07    44         18.328084            677.406    781.91   \n",
       "7        8  2021.1.08    42         17.859666            630.089    793.18   \n",
       "8        9  2021.1.09    45         17.781058            672.124    788.26   \n",
       "9       10  2021.1.10    41         17.732927            610.722    821.69   \n",
       "10      11  2021.1.11    47         17.542857            692.592    781.33   \n",
       "11      12  2021.1.12    45         18.153677            686.209    796.28   \n",
       "12      13  2021.1.13    45         17.781058            672.124    794.49   \n",
       "13      14  2021.1.14    47         17.726798            699.854    791.21   \n",
       "14      15  2021.1.15    46         18.043815            697.213    789.43   \n",
       "15      16  2021.1.16    45         17.843677            674.491    797.16   \n",
       "16      17  2021.1.17    43         17.715476            639.883    792.77   \n",
       "17      18  2021.1.18    46         16.881910            652.317    796.33   \n",
       "18      19  2021.1.19    46         17.539752            677.736    800.14   \n",
       "19      20  2021.1.20    45         17.827646            673.885    799.53   \n",
       "20      21  2021.1.21    44         17.741558            655.728    802.91   \n",
       "21      22  2021.1.22    45         18.270132            690.611    794.66   \n",
       "22      23  2021.1.23    45         17.824735            673.775    796.09   \n",
       "23      24  2021.1.24    44         18.304275            676.526    791.43   \n",
       "24      25  2021.1.25    45         18.444788            697.213    784.91   \n",
       "25      26  2021.1.26    45         18.043069            682.028    787.71   \n",
       "26      27  2021.1.27    46         17.729995            685.087    778.51   \n",
       "27      28  2021.1.28    46         17.441511            673.940    791.96   \n",
       "28      29  2021.1.29    45         17.502000            661.560    785.10   \n",
       "29      30  2021.1.30    45         18.105952            684.405    789.23   \n",
       "30      31  2021.1.31    46         17.884343            691.051    785.07   \n",
       "\n",
       "    aux unit  total Unit  si-MN Cosumption (KG/MT)  \n",
       "0      45.62      844.04                    344.04  \n",
       "1      48.07      861.00                    361.00  \n",
       "2      45.93      830.03                    330.03  \n",
       "3      51.36      842.02                    342.02  \n",
       "4      46.62      848.89                    348.89  \n",
       "5      45.17      856.58                    356.58  \n",
       "6      40.78      822.69                    322.69  \n",
       "7      48.53      841.71                    341.71  \n",
       "8      44.57      832.83                    332.83  \n",
       "9      47.19      868.88                    368.88  \n",
       "10     42.21      823.54                    323.54  \n",
       "11     43.13      839.41                    339.41  \n",
       "12     41.80      836.29                    321.78  \n",
       "13     39.97      831.18                    331.18  \n",
       "14     41.19      830.62                    330.62  \n",
       "15     41.90      839.06                    339.06  \n",
       "16     46.35      839.12                    339.12  \n",
       "17     39.95      836.28                    336.28  \n",
       "18     46.57      846.71                    346.71  \n",
       "19     43.46      842.99                    342.99  \n",
       "20     42.56      845.47                    345.48  \n",
       "21     45.32      839.98                    340.00  \n",
       "22     40.24      836.33                    337.00  \n",
       "23     45.48      836.91                    337.00  \n",
       "24     43.40      828.31                    328.31  \n",
       "25     40.82      828.53                    328.51  \n",
       "26     43.85      822.36                    322.00  \n",
       "27     45.91      837.87                    338.00  \n",
       "28     43.91      829.01                    329.00  \n",
       "29     42.27      831.50                    331.50  \n",
       "30     42.19      827.26                    327.26  "
      ]
     },
     "execution_count": 2,
     "metadata": {},
     "output_type": "execute_result"
    }
   ],
   "source": [
    "df = pd.read_excel('last.xlsx')\n",
    "df.shape\n",
    "df"
   ]
  },
  {
   "cell_type": "code",
   "execution_count": 3,
   "metadata": {},
   "outputs": [
    {
     "data": {
      "text/html": [
       "<div>\n",
       "<style scoped>\n",
       "    .dataframe tbody tr th:only-of-type {\n",
       "        vertical-align: middle;\n",
       "    }\n",
       "\n",
       "    .dataframe tbody tr th {\n",
       "        vertical-align: top;\n",
       "    }\n",
       "\n",
       "    .dataframe thead th {\n",
       "        text-align: right;\n",
       "    }\n",
       "</style>\n",
       "<table border=\"1\" class=\"dataframe\">\n",
       "  <thead>\n",
       "    <tr style=\"text-align: right;\">\n",
       "      <th></th>\n",
       "      <th>serial</th>\n",
       "      <th>date</th>\n",
       "      <th>heat</th>\n",
       "      <th>avg heat size mt</th>\n",
       "      <th>total production</th>\n",
       "      <th>F/C unit</th>\n",
       "      <th>aux unit</th>\n",
       "      <th>total Unit</th>\n",
       "      <th>si-MN Cosumption (KG/MT)</th>\n",
       "    </tr>\n",
       "  </thead>\n",
       "  <tbody>\n",
       "    <tr>\n",
       "      <th>0</th>\n",
       "      <td>1</td>\n",
       "      <td>2021.1.01</td>\n",
       "      <td>43</td>\n",
       "      <td>17.547896</td>\n",
       "      <td>633.830</td>\n",
       "      <td>809.41</td>\n",
       "      <td>45.62</td>\n",
       "      <td>844.04</td>\n",
       "      <td>344.04</td>\n",
       "    </tr>\n",
       "    <tr>\n",
       "      <th>1</th>\n",
       "      <td>2</td>\n",
       "      <td>2021.1.02</td>\n",
       "      <td>40</td>\n",
       "      <td>17.753780</td>\n",
       "      <td>596.527</td>\n",
       "      <td>813.26</td>\n",
       "      <td>48.07</td>\n",
       "      <td>861.00</td>\n",
       "      <td>361.00</td>\n",
       "    </tr>\n",
       "    <tr>\n",
       "      <th>2</th>\n",
       "      <td>3</td>\n",
       "      <td>2021.1.03</td>\n",
       "      <td>37</td>\n",
       "      <td>18.160843</td>\n",
       "      <td>564.439</td>\n",
       "      <td>783.28</td>\n",
       "      <td>45.93</td>\n",
       "      <td>830.03</td>\n",
       "      <td>330.03</td>\n",
       "    </tr>\n",
       "    <tr>\n",
       "      <th>3</th>\n",
       "      <td>4</td>\n",
       "      <td>2021.1.04</td>\n",
       "      <td>16</td>\n",
       "      <td>17.972396</td>\n",
       "      <td>241.549</td>\n",
       "      <td>1047.70</td>\n",
       "      <td>51.36</td>\n",
       "      <td>842.02</td>\n",
       "      <td>342.02</td>\n",
       "    </tr>\n",
       "    <tr>\n",
       "      <th>4</th>\n",
       "      <td>5</td>\n",
       "      <td>2021.1.05</td>\n",
       "      <td>42</td>\n",
       "      <td>17.862783</td>\n",
       "      <td>630.199</td>\n",
       "      <td>802.27</td>\n",
       "      <td>46.62</td>\n",
       "      <td>848.89</td>\n",
       "      <td>348.89</td>\n",
       "    </tr>\n",
       "  </tbody>\n",
       "</table>\n",
       "</div>"
      ],
      "text/plain": [
       "   serial       date  heat  avg heat size mt  total production   F/C unit  \\\n",
       "0       1  2021.1.01    43         17.547896            633.830    809.41   \n",
       "1       2  2021.1.02    40         17.753780            596.527    813.26   \n",
       "2       3  2021.1.03    37         18.160843            564.439    783.28   \n",
       "3       4  2021.1.04    16         17.972396            241.549   1047.70   \n",
       "4       5  2021.1.05    42         17.862783            630.199    802.27   \n",
       "\n",
       "   aux unit  total Unit  si-MN Cosumption (KG/MT)  \n",
       "0     45.62      844.04                    344.04  \n",
       "1     48.07      861.00                    361.00  \n",
       "2     45.93      830.03                    330.03  \n",
       "3     51.36      842.02                    342.02  \n",
       "4     46.62      848.89                    348.89  "
      ]
     },
     "execution_count": 3,
     "metadata": {},
     "output_type": "execute_result"
    }
   ],
   "source": [
    "df.head()"
   ]
  },
  {
   "cell_type": "code",
   "execution_count": 4,
   "metadata": {},
   "outputs": [
    {
     "data": {
      "text/plain": [
       "False"
      ]
     },
     "execution_count": 4,
     "metadata": {},
     "output_type": "execute_result"
    }
   ],
   "source": [
    "df.isnull().values.any()"
   ]
  },
  {
   "cell_type": "code",
   "execution_count": 5,
   "metadata": {},
   "outputs": [
    {
     "data": {
      "text/html": [
       "<div>\n",
       "<style scoped>\n",
       "    .dataframe tbody tr th:only-of-type {\n",
       "        vertical-align: middle;\n",
       "    }\n",
       "\n",
       "    .dataframe tbody tr th {\n",
       "        vertical-align: top;\n",
       "    }\n",
       "\n",
       "    .dataframe thead th {\n",
       "        text-align: right;\n",
       "    }\n",
       "</style>\n",
       "<table border=\"1\" class=\"dataframe\">\n",
       "  <thead>\n",
       "    <tr style=\"text-align: right;\">\n",
       "      <th></th>\n",
       "      <th>serial</th>\n",
       "      <th>heat</th>\n",
       "      <th>avg heat size mt</th>\n",
       "      <th>total production</th>\n",
       "      <th>F/C unit</th>\n",
       "      <th>aux unit</th>\n",
       "      <th>total Unit</th>\n",
       "      <th>si-MN Cosumption (KG/MT)</th>\n",
       "    </tr>\n",
       "  </thead>\n",
       "  <tbody>\n",
       "    <tr>\n",
       "      <th>count</th>\n",
       "      <td>31.000000</td>\n",
       "      <td>31.000000</td>\n",
       "      <td>31.000000</td>\n",
       "      <td>31.000000</td>\n",
       "      <td>31.000000</td>\n",
       "      <td>31.000000</td>\n",
       "      <td>31.000000</td>\n",
       "      <td>31.000000</td>\n",
       "    </tr>\n",
       "    <tr>\n",
       "      <th>mean</th>\n",
       "      <td>16.000000</td>\n",
       "      <td>43.161290</td>\n",
       "      <td>17.859319</td>\n",
       "      <td>647.212258</td>\n",
       "      <td>802.536129</td>\n",
       "      <td>44.074839</td>\n",
       "      <td>837.980645</td>\n",
       "      <td>337.529677</td>\n",
       "    </tr>\n",
       "    <tr>\n",
       "      <th>std</th>\n",
       "      <td>9.092121</td>\n",
       "      <td>5.621962</td>\n",
       "      <td>0.321571</td>\n",
       "      <td>83.394901</td>\n",
       "      <td>46.570685</td>\n",
       "      <td>2.788473</td>\n",
       "      <td>10.783976</td>\n",
       "      <td>11.183809</td>\n",
       "    </tr>\n",
       "    <tr>\n",
       "      <th>min</th>\n",
       "      <td>1.000000</td>\n",
       "      <td>16.000000</td>\n",
       "      <td>16.881910</td>\n",
       "      <td>241.549000</td>\n",
       "      <td>778.510000</td>\n",
       "      <td>39.950000</td>\n",
       "      <td>822.360000</td>\n",
       "      <td>321.780000</td>\n",
       "    </tr>\n",
       "    <tr>\n",
       "      <th>25%</th>\n",
       "      <td>8.500000</td>\n",
       "      <td>43.000000</td>\n",
       "      <td>17.728397</td>\n",
       "      <td>636.856500</td>\n",
       "      <td>787.985000</td>\n",
       "      <td>42.045000</td>\n",
       "      <td>830.325000</td>\n",
       "      <td>329.515000</td>\n",
       "    </tr>\n",
       "    <tr>\n",
       "      <th>50%</th>\n",
       "      <td>16.000000</td>\n",
       "      <td>45.000000</td>\n",
       "      <td>17.827646</td>\n",
       "      <td>673.885000</td>\n",
       "      <td>793.180000</td>\n",
       "      <td>43.850000</td>\n",
       "      <td>836.910000</td>\n",
       "      <td>337.000000</td>\n",
       "    </tr>\n",
       "    <tr>\n",
       "      <th>75%</th>\n",
       "      <td>23.500000</td>\n",
       "      <td>45.500000</td>\n",
       "      <td>18.074884</td>\n",
       "      <td>684.746000</td>\n",
       "      <td>799.835000</td>\n",
       "      <td>45.920000</td>\n",
       "      <td>842.505000</td>\n",
       "      <td>342.505000</td>\n",
       "    </tr>\n",
       "    <tr>\n",
       "      <th>max</th>\n",
       "      <td>31.000000</td>\n",
       "      <td>47.000000</td>\n",
       "      <td>18.444788</td>\n",
       "      <td>699.854000</td>\n",
       "      <td>1047.700000</td>\n",
       "      <td>51.360000</td>\n",
       "      <td>868.880000</td>\n",
       "      <td>368.880000</td>\n",
       "    </tr>\n",
       "  </tbody>\n",
       "</table>\n",
       "</div>"
      ],
      "text/plain": [
       "          serial       heat  avg heat size mt  total production      F/C unit  \\\n",
       "count  31.000000  31.000000         31.000000          31.000000    31.000000   \n",
       "mean   16.000000  43.161290         17.859319         647.212258   802.536129   \n",
       "std     9.092121   5.621962          0.321571          83.394901    46.570685   \n",
       "min     1.000000  16.000000         16.881910         241.549000   778.510000   \n",
       "25%     8.500000  43.000000         17.728397         636.856500   787.985000   \n",
       "50%    16.000000  45.000000         17.827646         673.885000   793.180000   \n",
       "75%    23.500000  45.500000         18.074884         684.746000   799.835000   \n",
       "max    31.000000  47.000000         18.444788         699.854000  1047.700000   \n",
       "\n",
       "        aux unit  total Unit  si-MN Cosumption (KG/MT)  \n",
       "count  31.000000   31.000000                 31.000000  \n",
       "mean   44.074839  837.980645                337.529677  \n",
       "std     2.788473   10.783976                 11.183809  \n",
       "min    39.950000  822.360000                321.780000  \n",
       "25%    42.045000  830.325000                329.515000  \n",
       "50%    43.850000  836.910000                337.000000  \n",
       "75%    45.920000  842.505000                342.505000  \n",
       "max    51.360000  868.880000                368.880000  "
      ]
     },
     "execution_count": 5,
     "metadata": {},
     "output_type": "execute_result"
    }
   ],
   "source": [
    "df.describe()"
   ]
  },
  {
   "cell_type": "code",
   "execution_count": 6,
   "metadata": {},
   "outputs": [
    {
     "name": "stdout",
     "output_type": "stream",
     "text": [
      "<class 'pandas.core.frame.DataFrame'>\n",
      "RangeIndex: 31 entries, 0 to 30\n",
      "Data columns (total 9 columns):\n",
      " #   Column                    Non-Null Count  Dtype  \n",
      "---  ------                    --------------  -----  \n",
      " 0   serial                    31 non-null     int64  \n",
      " 1   date                      31 non-null     object \n",
      " 2   heat                      31 non-null     int64  \n",
      " 3   avg heat size mt          31 non-null     float64\n",
      " 4   total production          31 non-null     float64\n",
      " 5   F/C unit                  31 non-null     float64\n",
      " 6   aux unit                  31 non-null     float64\n",
      " 7   total Unit                31 non-null     float64\n",
      " 8   si-MN Cosumption (KG/MT)  31 non-null     float64\n",
      "dtypes: float64(6), int64(2), object(1)\n",
      "memory usage: 2.3+ KB\n"
     ]
    }
   ],
   "source": [
    "df.info()"
   ]
  },
  {
   "cell_type": "code",
   "execution_count": 7,
   "metadata": {},
   "outputs": [
    {
     "data": {
      "text/plain": [
       "Index(['serial', 'date', 'heat', 'avg heat size mt', 'total production ',\n",
       "       'F/C unit', 'aux unit', 'total Unit', 'si-MN Cosumption (KG/MT)'],\n",
       "      dtype='object')"
      ]
     },
     "execution_count": 7,
     "metadata": {},
     "output_type": "execute_result"
    }
   ],
   "source": [
    "df.columns"
   ]
  },
  {
   "cell_type": "code",
   "execution_count": 8,
   "metadata": {},
   "outputs": [
    {
     "data": {
      "text/plain": [
       "serial                      31\n",
       "date                        31\n",
       "heat                        10\n",
       "avg heat size mt            30\n",
       "total production            29\n",
       "F/C unit                    31\n",
       "aux unit                    31\n",
       "total Unit                  31\n",
       "si-MN Cosumption (KG/MT)    30\n",
       "dtype: int64"
      ]
     },
     "execution_count": 8,
     "metadata": {},
     "output_type": "execute_result"
    }
   ],
   "source": [
    "df.apply(lambda x:len(x.unique()))"
   ]
  },
  {
   "cell_type": "code",
   "execution_count": 9,
   "metadata": {},
   "outputs": [
    {
     "data": {
      "text/plain": [
       "serial                      0\n",
       "date                        0\n",
       "heat                        0\n",
       "avg heat size mt            0\n",
       "total production            0\n",
       "F/C unit                    0\n",
       "aux unit                    0\n",
       "total Unit                  0\n",
       "si-MN Cosumption (KG/MT)    0\n",
       "dtype: int64"
      ]
     },
     "execution_count": 9,
     "metadata": {},
     "output_type": "execute_result"
    }
   ],
   "source": [
    "df.isnull().sum()"
   ]
  },
  {
   "cell_type": "code",
   "execution_count": 10,
   "metadata": {},
   "outputs": [
    {
     "data": {
      "text/plain": [
       "<bound method NDFrame.head of     serial       date  heat  avg heat size mt  total production   F/C unit  \\\n",
       "0        1  2021.1.01    43         17.547896            633.830    809.41   \n",
       "1        2  2021.1.02    40         17.753780            596.527    813.26   \n",
       "2        3  2021.1.03    37         18.160843            564.439    783.28   \n",
       "3        4  2021.1.04    16         17.972396            241.549   1047.70   \n",
       "4        5  2021.1.05    42         17.862783            630.199    802.27   \n",
       "5        6  2021.1.06    37         18.290444            568.467    811.41   \n",
       "6        7  2021.1.07    44         18.328084            677.406    781.91   \n",
       "7        8  2021.1.08    42         17.859666            630.089    793.18   \n",
       "8        9  2021.1.09    45         17.781058            672.124    788.26   \n",
       "9       10  2021.1.10    41         17.732927            610.722    821.69   \n",
       "10      11  2021.1.11    47         17.542857            692.592    781.33   \n",
       "11      12  2021.1.12    45         18.153677            686.209    796.28   \n",
       "12      13  2021.1.13    45         17.781058            672.124    794.49   \n",
       "13      14  2021.1.14    47         17.726798            699.854    791.21   \n",
       "14      15  2021.1.15    46         18.043815            697.213    789.43   \n",
       "15      16  2021.1.16    45         17.843677            674.491    797.16   \n",
       "16      17  2021.1.17    43         17.715476            639.883    792.77   \n",
       "17      18  2021.1.18    46         16.881910            652.317    796.33   \n",
       "18      19  2021.1.19    46         17.539752            677.736    800.14   \n",
       "19      20  2021.1.20    45         17.827646            673.885    799.53   \n",
       "20      21  2021.1.21    44         17.741558            655.728    802.91   \n",
       "21      22  2021.1.22    45         18.270132            690.611    794.66   \n",
       "22      23  2021.1.23    45         17.824735            673.775    796.09   \n",
       "23      24  2021.1.24    44         18.304275            676.526    791.43   \n",
       "24      25  2021.1.25    45         18.444788            697.213    784.91   \n",
       "25      26  2021.1.26    45         18.043069            682.028    787.71   \n",
       "26      27  2021.1.27    46         17.729995            685.087    778.51   \n",
       "27      28  2021.1.28    46         17.441511            673.940    791.96   \n",
       "28      29  2021.1.29    45         17.502000            661.560    785.10   \n",
       "29      30  2021.1.30    45         18.105952            684.405    789.23   \n",
       "30      31  2021.1.31    46         17.884343            691.051    785.07   \n",
       "\n",
       "    aux unit  total Unit  si-MN Cosumption (KG/MT)  \n",
       "0      45.62      844.04                    344.04  \n",
       "1      48.07      861.00                    361.00  \n",
       "2      45.93      830.03                    330.03  \n",
       "3      51.36      842.02                    342.02  \n",
       "4      46.62      848.89                    348.89  \n",
       "5      45.17      856.58                    356.58  \n",
       "6      40.78      822.69                    322.69  \n",
       "7      48.53      841.71                    341.71  \n",
       "8      44.57      832.83                    332.83  \n",
       "9      47.19      868.88                    368.88  \n",
       "10     42.21      823.54                    323.54  \n",
       "11     43.13      839.41                    339.41  \n",
       "12     41.80      836.29                    321.78  \n",
       "13     39.97      831.18                    331.18  \n",
       "14     41.19      830.62                    330.62  \n",
       "15     41.90      839.06                    339.06  \n",
       "16     46.35      839.12                    339.12  \n",
       "17     39.95      836.28                    336.28  \n",
       "18     46.57      846.71                    346.71  \n",
       "19     43.46      842.99                    342.99  \n",
       "20     42.56      845.47                    345.48  \n",
       "21     45.32      839.98                    340.00  \n",
       "22     40.24      836.33                    337.00  \n",
       "23     45.48      836.91                    337.00  \n",
       "24     43.40      828.31                    328.31  \n",
       "25     40.82      828.53                    328.51  \n",
       "26     43.85      822.36                    322.00  \n",
       "27     45.91      837.87                    338.00  \n",
       "28     43.91      829.01                    329.00  \n",
       "29     42.27      831.50                    331.50  \n",
       "30     42.19      827.26                    327.26  >"
      ]
     },
     "execution_count": 10,
     "metadata": {},
     "output_type": "execute_result"
    }
   ],
   "source": [
    "df.head"
   ]
  },
  {
   "cell_type": "code",
   "execution_count": 11,
   "metadata": {},
   "outputs": [],
   "source": [
    "import matplotlib.pyplot as plt"
   ]
  },
  {
   "cell_type": "code",
   "execution_count": 12,
   "metadata": {
    "scrolled": true
   },
   "outputs": [
    {
     "data": {
      "image/png": "[encoded data removed]",
      "text/plain": [
       "<Figure size 432x288 with 1 Axes>"
      ]
     },
     "metadata": {
      "needs_background": "light"
     },
     "output_type": "display_data"
    }
   ],
   "source": [
    "df.plot(x='serial', y='total Unit', kind='bar')\n",
    "plt.xlabel('january')\n",
    "plt.ylabel('total unit')\n",
    "plt.show()"
   ]
  },
  {
   "cell_type": "code",
   "execution_count": 13,
   "metadata": {},
   "outputs": [
    {
     "data": {
      "image/png": "[encoded data removed]",
      "text/plain": [
       "<Figure size 432x288 with 1 Axes>"
      ]
     },
     "metadata": {
      "needs_background": "light"
     },
     "output_type": "display_data"
    }
   ],
   "source": [
    "x= df['serial']\n",
    "y = df['avg heat size mt']\n",
    "fig , ax = plt.subplots()\n",
    "ax.plot(x,y)\n",
    "plt.title('avg heat size mt january')\n",
    "plt.xlabel('january')\n",
    "plt.ylabel('avg heat size mt')\n",
    "plt.grid()\n",
    "plt.show()\n",
    "\n"
   ]
  },
  {
   "cell_type": "code",
   "execution_count": 14,
   "metadata": {},
   "outputs": [
    {
     "data": {
      "image/png": "[encoded data removed]",
      "text/plain": [
       "<Figure size 432x288 with 1 Axes>"
      ]
     },
     "metadata": {
      "needs_background": "light"
     },
     "output_type": "display_data"
    }
   ],
   "source": [
    "df.plot(x='serial', y='aux unit', title = 'avg heat size mt', kind='line'  ) \n",
    "plt.xlabel('january')\n",
    "plt.ylabel('aux unit')\n",
    "plt.grid()\n",
    "plt.show()"
   ]
  },
  {
   "cell_type": "code",
   "execution_count": 15,
   "metadata": {},
   "outputs": [
    {
     "data": {
      "text/plain": [
       "337.52967741935487"
      ]
     },
     "execution_count": 15,
     "metadata": {},
     "output_type": "execute_result"
    }
   ],
   "source": [
    "df['si-MN Cosumption (KG/MT)'].mean()"
   ]
  },
  {
   "cell_type": "code",
   "execution_count": 16,
   "metadata": {},
   "outputs": [
    {
     "data": {
      "text/plain": [
       "837.9806451612901"
      ]
     },
     "execution_count": 16,
     "metadata": {},
     "output_type": "execute_result"
    }
   ],
   "source": [
    "df['total Unit'].mean()"
   ]
  },
  {
   "cell_type": "code",
   "execution_count": 17,
   "metadata": {},
   "outputs": [
    {
     "data": {
      "text/plain": [
       "serial                              1\n",
       "date                        2021.1.01\n",
       "heat                               43\n",
       "avg heat size mt            17.547896\n",
       "total production               633.83\n",
       "F/C unit                       809.41\n",
       "aux unit                        45.62\n",
       "total Unit                     844.04\n",
       "si-MN Cosumption (KG/MT)       344.04\n",
       "Name: 0, dtype: object"
      ]
     },
     "execution_count": 17,
     "metadata": {},
     "output_type": "execute_result"
    }
   ],
   "source": [
    "df.iloc[0]"
   ]
  },
  {
   "cell_type": "code",
   "execution_count": 18,
   "metadata": {},
   "outputs": [
    {
     "data": {
      "text/plain": [
       "['date']"
      ]
     },
     "execution_count": 18,
     "metadata": {},
     "output_type": "execute_result"
    }
   ],
   "source": [
    "#categorical columns\n",
    "cat_col = []\n",
    "for x in df.dtypes.index:\n",
    "    if df.dtypes[x] == 'object':\n",
    "        cat_col.append(x)\n",
    "cat_col"
   ]
  },
  {
   "cell_type": "code",
   "execution_count": 19,
   "metadata": {},
   "outputs": [
    {
     "name": "stdout",
     "output_type": "stream",
     "text": [
      "date\n",
      "2021.1.01    1\n",
      "2021.1.17    1\n",
      "2021.1.30    1\n",
      "2021.1.29    1\n",
      "2021.1.28    1\n",
      "2021.1.27    1\n",
      "2021.1.26    1\n",
      "2021.1.25    1\n",
      "2021.1.24    1\n",
      "2021.1.23    1\n",
      "2021.1.22    1\n",
      "2021.1.21    1\n",
      "2021.1.20    1\n",
      "2021.1.19    1\n",
      "2021.1.18    1\n",
      "2021.1.16    1\n",
      "2021.1.02    1\n",
      "2021.1.15    1\n",
      "2021.1.14    1\n",
      "2021.1.13    1\n",
      "2021.1.12    1\n",
      "2021.1.11    1\n",
      "2021.1.10    1\n",
      "2021.1.09    1\n",
      "2021.1.08    1\n",
      "2021.1.07    1\n",
      "2021.1.06    1\n",
      "2021.1.05    1\n",
      "2021.1.04    1\n",
      "2021.1.03    1\n",
      "2021.1.31    1\n",
      "Name: date, dtype: int64\n",
      "\n"
     ]
    }
   ],
   "source": [
    "for col in cat_col:\n",
    "    print(col)\n",
    "    print(df[col].value_counts())\n",
    "    print()"
   ]
  },
  {
   "cell_type": "code",
   "execution_count": 20,
   "metadata": {},
   "outputs": [
    {
     "data": {
      "image/png": "[encoded data removed]",
      "text/plain": [
       "<Figure size 1440x1440 with 2 Axes>"
      ]
     },
     "metadata": {
      "needs_background": "light"
     },
     "output_type": "display_data"
    }
   ],
   "source": [
    "import seaborn as sns\n",
    "corrmat = df.corr()\n",
    "top_corr_features = corrmat.index\n",
    "plt.figure(figsize=(20,20))\n",
    "#plot heat map\n",
    "g=sns.heatmap(df[top_corr_features].corr(),annot=True,cmap=\"RdYlGn\")"
   ]
  },
  {
   "cell_type": "code",
   "execution_count": 21,
   "metadata": {},
   "outputs": [
    {
     "data": {
      "image/png": "[encoded data removed]",
      "text/plain": [
       "<Figure size 432x288 with 1 Axes>"
      ]
     },
     "metadata": {
      "needs_background": "light"
     },
     "output_type": "display_data"
    }
   ],
   "source": [
    "df.plot(x='total Unit', y= 'serial', kind='scatter')\n",
    "plt.xlabel('total unit')\n",
    "plt.ylabel('serial')\n",
    "plt.show('trial')"
   ]
  },
  {
   "cell_type": "code",
   "execution_count": 36,
   "metadata": {},
   "outputs": [
    {
     "data": {
      "text/plain": [
       "0    344.04\n",
       "1    361.00\n",
       "2    330.03\n",
       "3    342.02\n",
       "4    348.89\n",
       "Name: si-MN Cosumption (KG/MT), dtype: float64"
      ]
     },
     "execution_count": 36,
     "metadata": {},
     "output_type": "execute_result"
    }
   ],
   "source": [
    "X = df['si-MN Cosumption (KG/MT)']\n",
    "X.head()"
   ]
  },
  {
   "cell_type": "code",
   "execution_count": 37,
   "metadata": {},
   "outputs": [
    {
     "data": {
      "text/plain": [
       "0    844.04\n",
       "1    861.00\n",
       "2    830.03\n",
       "3    842.02\n",
       "4    848.89\n",
       "Name: total Unit, dtype: float64"
      ]
     },
     "execution_count": 37,
     "metadata": {},
     "output_type": "execute_result"
    }
   ],
   "source": [
    "Y = df['total Unit']\n",
    "Y.head()"
   ]
  },
  {
   "cell_type": "code",
   "execution_count": 38,
   "metadata": {},
   "outputs": [],
   "source": [
    "from sklearn.model_selection import train_test_split"
   ]
  },
  {
   "cell_type": "code",
   "execution_count": 39,
   "metadata": {},
   "outputs": [],
   "source": [
    "X_train,X_test,y_train,y_test = train_test_split(X,y,train_size=0.7,random_state=100)"
   ]
  },
  {
   "cell_type": "code",
   "execution_count": 40,
   "metadata": {},
   "outputs": [
    {
     "name": "stderr",
     "output_type": "stream",
     "text": [
      "C:\\Users\\Kapil\\AppData\\Local\\Temp/ipykernel_6180/2733214152.py:1: FutureWarning: Support for multi-dimensional indexing (e.g. `obj[:, None]`) is deprecated and will be removed in a future version.  Convert to a numpy array before indexing instead.\n",
      "  X_train = X_train[:,np.newaxis]\n",
      "C:\\Users\\Kapil\\AppData\\Local\\Temp/ipykernel_6180/2733214152.py:2: FutureWarning: Support for multi-dimensional indexing (e.g. `obj[:, None]`) is deprecated and will be removed in a future version.  Convert to a numpy array before indexing instead.\n",
      "  X_test = X_test[:,np.newaxis]\n"
     ]
    }
   ],
   "source": [
    "X_train = X_train[:,np.newaxis]\n",
    "X_test = X_test[:,np.newaxis]"
   ]
  },
  {
   "cell_type": "code",
   "execution_count": 41,
   "metadata": {},
   "outputs": [],
   "source": [
    "from sklearn.linear_model import LinearRegression"
   ]
  },
  {
   "cell_type": "code",
   "execution_count": 42,
   "metadata": {},
   "outputs": [
    {
     "data": {
      "text/plain": [
       "LinearRegression()"
      ]
     },
     "execution_count": 42,
     "metadata": {},
     "output_type": "execute_result"
    }
   ],
   "source": [
    "lr = LinearRegression()\n",
    "lr.fit(X_train,y_train)"
   ]
  },
  {
   "cell_type": "code",
   "execution_count": 43,
   "metadata": {},
   "outputs": [],
   "source": [
    "y_pred = lr.predict(X_test)"
   ]
  },
  {
   "cell_type": "code",
   "execution_count": 44,
   "metadata": {},
   "outputs": [
    {
     "data": {
      "image/png": "[encoded data removed]",
      "text/plain": [
       "<Figure size 432x288 with 1 Axes>"
      ]
     },
     "metadata": {
      "needs_background": "light"
     },
     "output_type": "display_data"
    }
   ],
   "source": [
    "\n",
    "c = [i for i in range (1,len(y_test)+1,1)]\n",
    "plt.plot(c,y_test,color='r',linestyle='-')\n",
    "plt.plot(c,y_pred,color='b',linestyle='-')\n",
    "plt.xlabel('Salary')\n",
    "plt.ylabel('index')\n",
    "plt.title('Prediction')\n",
    "plt.show()"
   ]
  },
  {
   "cell_type": "code",
   "execution_count": 45,
   "metadata": {},
   "outputs": [
    {
     "data": {
      "image/png": "[encoded data removed]",
      "text/plain": [
       "<Figure size 432x288 with 1 Axes>"
      ]
     },
     "metadata": {
      "needs_background": "light"
     },
     "output_type": "display_data"
    }
   ],
   "source": [
    "c = [i for i in range(1,len(y_test)+1,1)]\n",
    "plt.plot(c,y_test-y_pred,color='green',linestyle='-')\n",
    "plt.xlabel('index')\n",
    "plt.ylabel('Error')\n",
    "plt.title('Error Value')\n",
    "plt.show()"
   ]
  },
  {
   "cell_type": "code",
   "execution_count": 46,
   "metadata": {},
   "outputs": [],
   "source": [
    "from sklearn.metrics import r2_score,mean_squared_error"
   ]
  },
  {
   "cell_type": "code",
   "execution_count": 47,
   "metadata": {},
   "outputs": [
    {
     "name": "stdout",
     "output_type": "stream",
     "text": [
      "mean squared error : 0.20376803989536318\n",
      "r square : -0.22699867324509682\n"
     ]
    },
    {
     "data": {
      "image/png": "[encoded data removed]",
      "text/plain": [
       "<Figure size 864x432 with 1 Axes>"
      ]
     },
     "metadata": {
      "needs_background": "light"
     },
     "output_type": "display_data"
    }
   ],
   "source": [
    "mse = mean_squared_error(y_test,y_pred)\n",
    "rsq = r2_score(y_test,y_pred)\n",
    "print('mean squared error :',mse)\n",
    "print('r square :',rsq)\n",
    "plt.figure(figsize=(12,6))\n",
    "plt.scatter(y_test,y_pred,color='r',linestyle='-')\n",
    "plt.show()"
   ]
  },
  {
   "cell_type": "code",
   "execution_count": 48,
   "metadata": {},
   "outputs": [
    {
     "name": "stdout",
     "output_type": "stream",
     "text": [
      "Intercept of the model: 18.275792817287744\n",
      "Coefficient of the line: [-0.00104946]\n"
     ]
    }
   ],
   "source": [
    "print('Intercept of the model:',lr.intercept_)\n",
    "print('Coefficient of the line:',lr.coef_)"
   ]
  },
  {
   "cell_type": "code",
   "execution_count": 50,
   "metadata": {},
   "outputs": [
    {
     "name": "stdout",
     "output_type": "stream",
     "text": [
      "Y = 18.275792817287744 -0.00104946X\n"
     ]
    }
   ],
   "source": [
    "print('Y = 18.275792817287744 -0.00104946X')"
   ]
  },
  {
   "cell_type": "code",
   "execution_count": null,
   "metadata": {},
   "outputs": [],
   "source": []
  },
  {
   "cell_type": "code",
   "execution_count": null,
   "metadata": {},
   "outputs": [],
   "source": []
  }
 ],
 "metadata": {
  "kernelspec": {
   "display_name": "Python 3 (ipykernel)",
   "language": "python",
   "name": "python3"
  },
  "language_info": {
   "codemirror_mode": {
    "name": "ipython",
    "version": 3
   },
   "file_extension": ".py",
   "mimetype": "text/x-python",
   "name": "python",
   "nbconvert_exporter": "python",
   "pygments_lexer": "ipython3",
   "version": "3.9.6"
  }
 },
 "nbformat": 4,
 "nbformat_minor": 4
}
