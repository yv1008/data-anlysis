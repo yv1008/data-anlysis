{
 "cells": [
  {
   "cell_type": "code",
   "execution_count": 58,
   "id": "f563ab04",
   "metadata": {},
   "outputs": [
    {
     "data": {
      "text/html": [
       "<div>\n",
       "<style scoped>\n",
       "    .dataframe tbody tr th:only-of-type {\n",
       "        vertical-align: middle;\n",
       "    }\n",
       "\n",
       "    .dataframe tbody tr th {\n",
       "        vertical-align: top;\n",
       "    }\n",
       "\n",
       "    .dataframe thead th {\n",
       "        text-align: right;\n",
       "    }\n",
       "</style>\n",
       "<table border=\"1\" class=\"dataframe\">\n",
       "  <thead>\n",
       "    <tr style=\"text-align: right;\">\n",
       "      <th></th>\n",
       "      <th>Irradiance</th>\n",
       "      <th>Temperature</th>\n",
       "      <th>Power Output</th>\n",
       "    </tr>\n",
       "  </thead>\n",
       "  <tbody>\n",
       "    <tr>\n",
       "      <th>0</th>\n",
       "      <td>1161.020374</td>\n",
       "      <td>25</td>\n",
       "      <td>-5.405853</td>\n",
       "    </tr>\n",
       "    <tr>\n",
       "      <th>1</th>\n",
       "      <td>1162.020374</td>\n",
       "      <td>25</td>\n",
       "      <td>-4.932492</td>\n",
       "    </tr>\n",
       "    <tr>\n",
       "      <th>2</th>\n",
       "      <td>1163.020374</td>\n",
       "      <td>25</td>\n",
       "      <td>-4.428712</td>\n",
       "    </tr>\n",
       "    <tr>\n",
       "      <th>3</th>\n",
       "      <td>1164.020374</td>\n",
       "      <td>25</td>\n",
       "      <td>-3.854860</td>\n",
       "    </tr>\n",
       "    <tr>\n",
       "      <th>4</th>\n",
       "      <td>1165.020374</td>\n",
       "      <td>25</td>\n",
       "      <td>-3.162085</td>\n",
       "    </tr>\n",
       "    <tr>\n",
       "      <th>...</th>\n",
       "      <td>...</td>\n",
       "      <td>...</td>\n",
       "      <td>...</td>\n",
       "    </tr>\n",
       "    <tr>\n",
       "      <th>1829</th>\n",
       "      <td>1161.243512</td>\n",
       "      <td>25</td>\n",
       "      <td>89.849630</td>\n",
       "    </tr>\n",
       "    <tr>\n",
       "      <th>1830</th>\n",
       "      <td>1161.243634</td>\n",
       "      <td>25</td>\n",
       "      <td>89.868449</td>\n",
       "    </tr>\n",
       "    <tr>\n",
       "      <th>1831</th>\n",
       "      <td>1161.243756</td>\n",
       "      <td>25</td>\n",
       "      <td>89.883989</td>\n",
       "    </tr>\n",
       "    <tr>\n",
       "      <th>1832</th>\n",
       "      <td>1161.243878</td>\n",
       "      <td>25</td>\n",
       "      <td>89.892354</td>\n",
       "    </tr>\n",
       "    <tr>\n",
       "      <th>1833</th>\n",
       "      <td>1161.244000</td>\n",
       "      <td>25</td>\n",
       "      <td>89.892621</td>\n",
       "    </tr>\n",
       "  </tbody>\n",
       "</table>\n",
       "<p>1834 rows × 3 columns</p>\n",
       "</div>"
      ],
      "text/plain": [
       "       Irradiance  Temperature  Power Output\n",
       "0     1161.020374           25     -5.405853\n",
       "1     1162.020374           25     -4.932492\n",
       "2     1163.020374           25     -4.428712\n",
       "3     1164.020374           25     -3.854860\n",
       "4     1165.020374           25     -3.162085\n",
       "...           ...          ...           ...\n",
       "1829  1161.243512           25     89.849630\n",
       "1830  1161.243634           25     89.868449\n",
       "1831  1161.243756           25     89.883989\n",
       "1832  1161.243878           25     89.892354\n",
       "1833  1161.244000           25     89.892621\n",
       "\n",
       "[1834 rows x 3 columns]"
      ]
     },
     "execution_count": 58,
     "metadata": {},
     "output_type": "execute_result"
    }
   ],
   "source": [
    "import pandas as pd\n",
    "import numpy as np\n",
    "df = pd.read_excel('microgrid.xlsx')\n",
    "df.shape\n",
    "df"
   ]
  },
  {
   "cell_type": "code",
   "execution_count": 59,
   "id": "f35589c7",
   "metadata": {},
   "outputs": [
    {
     "data": {
      "text/plain": [
       "<bound method NDFrame.head of        Irradiance  Temperature  Power Output\n",
       "0     1161.020374           25     -5.405853\n",
       "1     1162.020374           25     -4.932492\n",
       "2     1163.020374           25     -4.428712\n",
       "3     1164.020374           25     -3.854860\n",
       "4     1165.020374           25     -3.162085\n",
       "...           ...          ...           ...\n",
       "1829  1161.243512           25     89.849630\n",
       "1830  1161.243634           25     89.868449\n",
       "1831  1161.243756           25     89.883989\n",
       "1832  1161.243878           25     89.892354\n",
       "1833  1161.244000           25     89.892621\n",
       "\n",
       "[1834 rows x 3 columns]>"
      ]
     },
     "execution_count": 59,
     "metadata": {},
     "output_type": "execute_result"
    }
   ],
   "source": [
    "df.head"
   ]
  },
  {
   "cell_type": "code",
   "execution_count": 60,
   "id": "8cdb650c",
   "metadata": {},
   "outputs": [
    {
     "data": {
      "text/plain": [
       "Irradiance      0\n",
       "Temperature     0\n",
       "Power Output    0\n",
       "dtype: int64"
      ]
     },
     "execution_count": 60,
     "metadata": {},
     "output_type": "execute_result"
    }
   ],
   "source": [
    "df.isnull().sum()\n"
   ]
  },
  {
   "cell_type": "code",
   "execution_count": 61,
   "id": "605bc3dc",
   "metadata": {},
   "outputs": [],
   "source": [
    "import random"
   ]
  },
  {
   "cell_type": "code",
   "execution_count": 62,
   "id": "60c15718",
   "metadata": {},
   "outputs": [
    {
     "data": {
      "text/html": [
       "<div>\n",
       "<style scoped>\n",
       "    .dataframe tbody tr th:only-of-type {\n",
       "        vertical-align: middle;\n",
       "    }\n",
       "\n",
       "    .dataframe tbody tr th {\n",
       "        vertical-align: top;\n",
       "    }\n",
       "\n",
       "    .dataframe thead th {\n",
       "        text-align: right;\n",
       "    }\n",
       "</style>\n",
       "<table border=\"1\" class=\"dataframe\">\n",
       "  <thead>\n",
       "    <tr style=\"text-align: right;\">\n",
       "      <th></th>\n",
       "      <th>Irradiance</th>\n",
       "      <th>Temperature</th>\n",
       "      <th>Power Output</th>\n",
       "    </tr>\n",
       "  </thead>\n",
       "  <tbody>\n",
       "    <tr>\n",
       "      <th>0</th>\n",
       "      <td>1161.020374</td>\n",
       "      <td>25</td>\n",
       "      <td>-5.405853</td>\n",
       "    </tr>\n",
       "    <tr>\n",
       "      <th>1</th>\n",
       "      <td>1162.020374</td>\n",
       "      <td>25</td>\n",
       "      <td>-4.932492</td>\n",
       "    </tr>\n",
       "    <tr>\n",
       "      <th>2</th>\n",
       "      <td>1163.020374</td>\n",
       "      <td>25</td>\n",
       "      <td>-4.428712</td>\n",
       "    </tr>\n",
       "    <tr>\n",
       "      <th>3</th>\n",
       "      <td>1164.020374</td>\n",
       "      <td>25</td>\n",
       "      <td>-3.854860</td>\n",
       "    </tr>\n",
       "    <tr>\n",
       "      <th>4</th>\n",
       "      <td>1165.020374</td>\n",
       "      <td>25</td>\n",
       "      <td>-3.162085</td>\n",
       "    </tr>\n",
       "    <tr>\n",
       "      <th>...</th>\n",
       "      <td>...</td>\n",
       "      <td>...</td>\n",
       "      <td>...</td>\n",
       "    </tr>\n",
       "    <tr>\n",
       "      <th>1829</th>\n",
       "      <td>1161.243512</td>\n",
       "      <td>25</td>\n",
       "      <td>89.849630</td>\n",
       "    </tr>\n",
       "    <tr>\n",
       "      <th>1830</th>\n",
       "      <td>1161.243634</td>\n",
       "      <td>25</td>\n",
       "      <td>89.868449</td>\n",
       "    </tr>\n",
       "    <tr>\n",
       "      <th>1831</th>\n",
       "      <td>1161.243756</td>\n",
       "      <td>25</td>\n",
       "      <td>89.883989</td>\n",
       "    </tr>\n",
       "    <tr>\n",
       "      <th>1832</th>\n",
       "      <td>1161.243878</td>\n",
       "      <td>25</td>\n",
       "      <td>89.892354</td>\n",
       "    </tr>\n",
       "    <tr>\n",
       "      <th>1833</th>\n",
       "      <td>1161.244000</td>\n",
       "      <td>25</td>\n",
       "      <td>89.892621</td>\n",
       "    </tr>\n",
       "  </tbody>\n",
       "</table>\n",
       "<p>1834 rows × 3 columns</p>\n",
       "</div>"
      ],
      "text/plain": [
       "       Irradiance  Temperature  Power Output\n",
       "0     1161.020374           25     -5.405853\n",
       "1     1162.020374           25     -4.932492\n",
       "2     1163.020374           25     -4.428712\n",
       "3     1164.020374           25     -3.854860\n",
       "4     1165.020374           25     -3.162085\n",
       "...           ...          ...           ...\n",
       "1829  1161.243512           25     89.849630\n",
       "1830  1161.243634           25     89.868449\n",
       "1831  1161.243756           25     89.883989\n",
       "1832  1161.243878           25     89.892354\n",
       "1833  1161.244000           25     89.892621\n",
       "\n",
       "[1834 rows x 3 columns]"
      ]
     },
     "execution_count": 62,
     "metadata": {},
     "output_type": "execute_result"
    }
   ],
   "source": [
    "df"
   ]
  },
  {
   "cell_type": "code",
   "execution_count": 63,
   "id": "403523f8",
   "metadata": {},
   "outputs": [
    {
     "data": {
      "image/png": "[encoded data removed]",
      "text/plain": [
       "<Figure size 1440x1440 with 2 Axes>"
      ]
     },
     "metadata": {
      "needs_background": "light"
     },
     "output_type": "display_data"
    }
   ],
   "source": [
    "import seaborn as sns\n",
    "import matplotlib.pyplot as plt\n",
    "corrmat = df.corr()\n",
    "top_corr_features = corrmat.index\n",
    "plt.figure(figsize=(20,20))\n",
    "g=sns.heatmap(df[top_corr_features].corr(),annot=True,cmap=\"RdYlGn\")"
   ]
  },
  {
   "cell_type": "code",
   "execution_count": 65,
   "id": "a15e2f12",
   "metadata": {},
   "outputs": [
    {
     "name": "stdout",
     "output_type": "stream",
     "text": [
      "<class 'pandas.core.frame.DataFrame'>\n",
      "RangeIndex: 1834 entries, 0 to 1833\n",
      "Data columns (total 3 columns):\n",
      " #   Column        Non-Null Count  Dtype  \n",
      "---  ------        --------------  -----  \n",
      " 0   Irradiance    1834 non-null   float64\n",
      " 1   Temperature   1834 non-null   int64  \n",
      " 2   Power Output  1834 non-null   float64\n",
      "dtypes: float64(2), int64(1)\n",
      "memory usage: 43.1 KB\n"
     ]
    }
   ],
   "source": [
    "df.info()"
   ]
  },
  {
   "cell_type": "code",
   "execution_count": 66,
   "id": "32c69dce",
   "metadata": {},
   "outputs": [
    {
     "data": {
      "text/html": [
       "<div>\n",
       "<style scoped>\n",
       "    .dataframe tbody tr th:only-of-type {\n",
       "        vertical-align: middle;\n",
       "    }\n",
       "\n",
       "    .dataframe tbody tr th {\n",
       "        vertical-align: top;\n",
       "    }\n",
       "\n",
       "    .dataframe thead th {\n",
       "        text-align: right;\n",
       "    }\n",
       "</style>\n",
       "<table border=\"1\" class=\"dataframe\">\n",
       "  <thead>\n",
       "    <tr style=\"text-align: right;\">\n",
       "      <th></th>\n",
       "      <th>Irradiance</th>\n",
       "      <th>Temperature</th>\n",
       "      <th>Power Output</th>\n",
       "    </tr>\n",
       "  </thead>\n",
       "  <tbody>\n",
       "    <tr>\n",
       "      <th>count</th>\n",
       "      <td>1834.000000</td>\n",
       "      <td>1834.0</td>\n",
       "      <td>1834.000000</td>\n",
       "    </tr>\n",
       "    <tr>\n",
       "      <th>mean</th>\n",
       "      <td>1382.670587</td>\n",
       "      <td>25.0</td>\n",
       "      <td>88.850796</td>\n",
       "    </tr>\n",
       "    <tr>\n",
       "      <th>std</th>\n",
       "      <td>289.961835</td>\n",
       "      <td>0.0</td>\n",
       "      <td>10.612065</td>\n",
       "    </tr>\n",
       "    <tr>\n",
       "      <th>min</th>\n",
       "      <td>1161.020374</td>\n",
       "      <td>25.0</td>\n",
       "      <td>-5.405853</td>\n",
       "    </tr>\n",
       "    <tr>\n",
       "      <th>25%</th>\n",
       "      <td>1161.186203</td>\n",
       "      <td>25.0</td>\n",
       "      <td>88.981870</td>\n",
       "    </tr>\n",
       "    <tr>\n",
       "      <th>50%</th>\n",
       "      <td>1161.242109</td>\n",
       "      <td>25.0</td>\n",
       "      <td>89.407462</td>\n",
       "    </tr>\n",
       "    <tr>\n",
       "      <th>75%</th>\n",
       "      <td>1603.770374</td>\n",
       "      <td>25.0</td>\n",
       "      <td>89.756029</td>\n",
       "    </tr>\n",
       "    <tr>\n",
       "      <th>max</th>\n",
       "      <td>2062.020374</td>\n",
       "      <td>25.0</td>\n",
       "      <td>116.798086</td>\n",
       "    </tr>\n",
       "  </tbody>\n",
       "</table>\n",
       "</div>"
      ],
      "text/plain": [
       "        Irradiance  Temperature  Power Output\n",
       "count  1834.000000       1834.0   1834.000000\n",
       "mean   1382.670587         25.0     88.850796\n",
       "std     289.961835          0.0     10.612065\n",
       "min    1161.020374         25.0     -5.405853\n",
       "25%    1161.186203         25.0     88.981870\n",
       "50%    1161.242109         25.0     89.407462\n",
       "75%    1603.770374         25.0     89.756029\n",
       "max    2062.020374         25.0    116.798086"
      ]
     },
     "execution_count": 66,
     "metadata": {},
     "output_type": "execute_result"
    }
   ],
   "source": [
    "df.describe()"
   ]
  },
  {
   "cell_type": "code",
   "execution_count": 67,
   "id": "1adbce0c",
   "metadata": {},
   "outputs": [
    {
     "data": {
      "image/png": "[encoded data removed]",
      "text/plain": [
       "<Figure size 540x540 with 12 Axes>"
      ]
     },
     "metadata": {
      "needs_background": "light"
     },
     "output_type": "display_data"
    }
   ],
   "source": [
    "sns.pairplot(df)\n",
    "plt.show()"
   ]
  },
  {
   "cell_type": "code",
   "execution_count": 73,
   "id": "b798768a",
   "metadata": {},
   "outputs": [],
   "source": [
    "from sklearn.model_selection import train_test_split\n",
    "X = df['Irradiance']\n",
    "y = df['Power Output']"
   ]
  },
  {
   "cell_type": "code",
   "execution_count": 74,
   "id": "145f16cf",
   "metadata": {},
   "outputs": [],
   "source": [
    "X_train,X_test,y_train,y_test = train_test_split(X,y,train_size=0.7,random_state=100)"
   ]
  },
  {
   "cell_type": "code",
   "execution_count": 75,
   "id": "7b8c74ad",
   "metadata": {},
   "outputs": [
    {
     "name": "stderr",
     "output_type": "stream",
     "text": [
      "C:\\Users\\Kapil\\AppData\\Local\\Temp/ipykernel_17452/67130142.py:2: FutureWarning: Support for multi-dimensional indexing (e.g. `obj[:, None]`) is deprecated and will be removed in a future version.  Convert to a numpy array before indexing instead.\n",
      "  X_train = X_train[:,np.newaxis]\n",
      "C:\\Users\\Kapil\\AppData\\Local\\Temp/ipykernel_17452/67130142.py:3: FutureWarning: Support for multi-dimensional indexing (e.g. `obj[:, None]`) is deprecated and will be removed in a future version.  Convert to a numpy array before indexing instead.\n",
      "  X_test = X_test[:,np.newaxis]\n"
     ]
    }
   ],
   "source": [
    "# Create new axis for x column\n",
    "X_train = X_train[:,np.newaxis]\n",
    "X_test = X_test[:,np.newaxis]"
   ]
  },
  {
   "cell_type": "code",
   "execution_count": 76,
   "id": "9f6d468d",
   "metadata": {},
   "outputs": [],
   "source": [
    "from sklearn.linear_model import LinearRegression"
   ]
  },
  {
   "cell_type": "code",
   "execution_count": 77,
   "id": "3c3a7558",
   "metadata": {},
   "outputs": [
    {
     "data": {
      "text/plain": [
       "LinearRegression()"
      ]
     },
     "execution_count": 77,
     "metadata": {},
     "output_type": "execute_result"
    }
   ],
   "source": [
    "lr = LinearRegression()\n",
    "lr.fit(X_train,y_train)"
   ]
  },
  {
   "cell_type": "code",
   "execution_count": 78,
   "id": "ea5b6aaa",
   "metadata": {},
   "outputs": [],
   "source": [
    "y_pred = lr.predict(X_test)"
   ]
  },
  {
   "cell_type": "code",
   "execution_count": 79,
   "id": "22ac622f",
   "metadata": {},
   "outputs": [
    {
     "data": {
      "text/plain": [
       "array([88.3059055 , 88.30586685, 88.30593983, 88.3607334 , 88.3059444 ,\n",
       "       90.02551576, 88.3058935 , 88.30607068, 88.30585293, 88.30592615,\n",
       "       89.77363379, 88.30597465, 88.30606059, 88.30606467, 88.30587669,\n",
       "       88.35876557, 89.02389138, 89.0534088 , 89.00224528, 88.30590334,\n",
       "       89.30725859, 88.93730696, 89.1242506 , 88.30594608, 89.65753195,\n",
       "       88.30604619, 89.02979487, 88.30587261, 89.39777867, 89.75592334,\n",
       "       89.28758031, 88.30597729, 88.30586661, 88.65197192, 88.30592831,\n",
       "       88.30592975, 88.30594704, 88.30602986, 88.41583258, 88.36663688,\n",
       "       88.30587814, 88.30590502, 89.37219691, 89.23838462, 89.65359629,\n",
       "       88.30606299, 88.30594224, 88.81530163, 89.21673851, 88.30586973,\n",
       "       88.60671188, 89.99796617, 89.04160183, 88.30600321, 88.3060097 ,\n",
       "       88.30604547, 88.45322131, 89.34661515, 89.25412724, 88.41780041,\n",
       "       89.01602007, 89.40958564, 89.18525327, 88.30591175, 89.63391802,\n",
       "       88.5161918 , 88.68542499, 88.30604235, 89.27380552, 88.30601354,\n",
       "       88.30589038, 88.30606779, 88.30604499, 88.30604427, 88.30586733,\n",
       "       88.30596648, 88.44535   , 88.30604283, 88.52209528, 88.30586325,\n",
       "       88.305954  , 89.56701187, 88.30596696, 88.30595712, 89.09079753,\n",
       "       88.3059624 , 88.30596408, 88.30600273, 88.91566085, 88.87433647,\n",
       "       88.3058995 , 88.30585365, 89.74411638, 88.30607044, 89.65949978,\n",
       "       88.35089426, 88.30595568, 88.30589998, 89.89367129, 88.68148934,\n",
       "       88.30594632, 88.30586109, 88.87040081, 88.30585101, 88.30586853,\n",
       "       89.98025572, 89.68704937, 88.30593503, 89.54339794, 88.56932315,\n",
       "       88.30586133, 90.00583748, 88.30592063, 88.74839548, 88.83301208,\n",
       "       88.30600369, 90.03732273, 89.88186433, 89.85825039, 89.07505491,\n",
       "       89.29545163, 89.35448646, 88.30588702, 88.32924815, 89.57685101,\n",
       "       89.8307008 , 88.30598545, 88.30601858, 89.4489422 , 89.1380254 ,\n",
       "       88.30602674, 88.30590094, 88.30606563, 88.95304958, 88.97666352,\n",
       "       89.50797703, 88.30606755, 88.30588606, 88.30604139, 88.64016495,\n",
       "       88.30589782, 89.6752424 , 88.30602914, 88.30594248, 90.03141924,\n",
       "       88.69526413, 88.75429897, 88.30591271, 88.53390225, 89.1596715 ,\n",
       "       89.32300122, 89.49026658, 88.30602194, 88.30589926, 88.30602146,\n",
       "       90.06093666, 89.96057744, 88.64606844, 88.30607332, 88.30602482,\n",
       "       88.3060145 , 88.30598809, 88.5870336 , 89.25609507, 89.43319958,\n",
       "       88.30607116, 88.3060702 , 88.70116762, 88.7070711 , 88.30590406,\n",
       "       89.58472232, 88.30587693, 90.07864711, 88.30600682, 88.30585221,\n",
       "       88.30594512, 89.4705883 , 88.85072253, 88.3060157 , 89.33087253,\n",
       "       88.95501741, 89.47649179, 88.30597368, 88.30605603, 88.77988073,\n",
       "       88.30604643, 88.67952151, 89.14589671, 88.30586589, 88.57916229,\n",
       "       88.30607092, 89.61817539, 89.90744609, 89.51388052, 89.12031495,\n",
       "       88.57522663, 88.74445983, 88.30588438, 89.3781004 , 88.30605987,\n",
       "       89.11834712, 90.07274363, 88.30590838, 89.59652929, 88.3060714 ,\n",
       "       89.03569835, 88.30598065, 88.30599073, 88.83497991, 89.57881884,\n",
       "       88.30603875, 88.79759118, 88.30597657, 89.09473319, 88.30598233,\n",
       "       88.3058911 , 88.30595232, 88.30597753, 88.30595808, 88.30605819,\n",
       "       88.34302295, 88.30606251, 88.30585797, 89.78347293, 88.30590526,\n",
       "       88.30590286, 88.30598593, 88.30606635, 88.30585629, 89.32693687,\n",
       "       88.30594824, 88.38434733, 88.30599673, 88.30587405, 88.60474405,\n",
       "       88.30586565, 88.30597489, 89.19115675, 88.70510327, 88.32334467,\n",
       "       88.30592279, 89.88973564, 89.5689797 , 88.30603322, 88.30593407,\n",
       "       88.54964487, 89.50600921, 88.30606875, 88.98847048, 88.30593743,\n",
       "       90.057001  , 90.02945141, 88.80939815, 89.02782704, 88.30594536,\n",
       "       88.30592759, 88.52406311, 88.36466905, 88.36270123, 88.30596048,\n",
       "       88.3059007 , 88.30592735, 88.30592711, 88.83104425, 88.30598089,\n",
       "       88.30592783, 90.01567662, 88.30604067, 88.30597224, 88.50438483,\n",
       "       88.30606923, 89.33874384, 88.30594968, 88.30604091, 88.30585965,\n",
       "       89.96844875, 88.30587213, 88.30587549, 88.81923729, 89.86021822,\n",
       "       88.30590742, 88.30602386, 89.45681351, 89.4843631 , 89.58078666,\n",
       "       88.30603106, 89.09670101, 89.81299035, 88.30597272, 89.72837375,\n",
       "       88.30586541, 88.30604763, 88.30599985, 88.30599289, 88.30596216,\n",
       "       88.30585173, 89.5335588 , 88.66968237, 89.10850798, 88.30598329,\n",
       "       88.76217028, 88.30594896, 89.0042131 , 88.30590358, 88.3060133 ,\n",
       "       88.30602314, 89.52962314, 89.65556412, 89.77560162, 88.30591655,\n",
       "       88.30586205, 88.30585869, 89.76576248, 88.30600561, 88.96682438,\n",
       "       89.42336044, 88.61851885, 88.87630429, 88.3060289 , 88.30603346,\n",
       "       88.30603754, 88.30597296, 88.30592111, 88.30604523, 88.30599769,\n",
       "       88.30597441, 88.5378379 , 88.30599841, 88.30605699, 88.30602554,\n",
       "       89.42926392, 88.30590646, 88.8133338 , 88.30594103, 89.9507383 ,\n",
       "       88.30587453, 88.30586421, 88.30599817, 88.30591007, 88.30606155,\n",
       "       88.64803626, 88.30592207, 88.30601618, 88.30603274, 88.30598257,\n",
       "       88.30602458, 89.93893133, 88.30591463, 89.96254527, 89.03766618,\n",
       "       88.30586829, 88.30588534, 88.43747868, 88.30602434, 88.62835799,\n",
       "       88.67558585, 88.30606275, 89.3643256 , 88.83694774, 88.30598929,\n",
       "       88.30586157, 88.30601162, 89.85234691, 88.30592927, 88.73068503,\n",
       "       88.30601498, 88.3059672 , 88.89401475, 89.46271699, 88.89204692,\n",
       "       88.30594848, 88.3059588 , 88.77397725, 88.63819713, 88.34892643,\n",
       "       88.30598281, 88.30589758, 89.11441146, 90.05896883, 88.98453483,\n",
       "       88.30587958, 88.39418647, 88.30604115, 89.40761781, 88.30589182,\n",
       "       89.26396638, 88.86646516, 88.30590886, 88.30604451, 88.99240614,\n",
       "       89.19509241, 88.58506577, 89.84841125, 88.3060193 , 88.30593839,\n",
       "       88.93140347, 89.95270613, 88.30597104, 88.3060241 , 89.07308708,\n",
       "       89.45287785, 89.70475982, 88.30603923, 88.30602218, 89.62211105,\n",
       "       88.30588054, 88.79562335, 88.30600225, 88.30598209, 88.3059067 ,\n",
       "       88.30594464, 88.30587597, 89.15770368, 88.30604715, 88.84678688,\n",
       "       88.30591895, 88.30603658, 88.30605459, 88.30605003, 88.30594031,\n",
       "       88.30599241, 88.50832049, 89.38597171, 89.92122088, 88.30601018,\n",
       "       88.30587838, 88.30597897, 88.30586397, 88.30604379, 88.30596888,\n",
       "       89.83463646, 88.96288872, 89.34858298, 89.14392888, 89.69885634,\n",
       "       89.62407888, 89.92909219, 88.30591871, 88.87236864, 88.60867971,\n",
       "       88.49651352, 88.30601978, 88.71297458, 88.30589302, 88.30593863,\n",
       "       88.30592183, 89.0888297 , 89.51781617, 88.61458319, 88.51815963,\n",
       "       88.742492  , 89.27577335, 88.38631516, 88.30597537, 88.30605507,\n",
       "       88.30585413, 88.30596096, 88.95108175, 88.3058827 , 88.30588966,\n",
       "       88.30592639, 88.93533913, 89.45484568, 88.51028832, 88.30590982,\n",
       "       89.31119425, 88.49454569, 89.00618093, 88.78578421, 88.30596768,\n",
       "       88.30588678, 88.30602074, 88.30597032, 88.8271086 , 89.99403051,\n",
       "       89.82282949, 88.30604403, 88.30595856, 89.5552049 , 88.30598017,\n",
       "       88.30604787, 88.69919979, 88.7916877 , 88.30600441, 89.42139261,\n",
       "       88.30595904, 89.64769281, 88.30598041, 89.87596084, 88.30607404,\n",
       "       88.30602338, 88.30595616, 88.39025082, 88.30606611, 88.30605027,\n",
       "       88.30605843, 89.70279199, 89.27774118, 89.14196105, 89.54536576,\n",
       "       88.30593551, 90.00780531, 89.05734446, 88.71887807, 89.04553749,\n",
       "       88.30604187, 88.38828299, 89.35251863, 88.30607356, 89.99599834,\n",
       "       89.53749445, 88.45912479, 88.8979504 , 89.13212191, 89.59259363,\n",
       "       89.16754282, 88.30596024, 89.91728523, 88.30589494, 88.4315752 ,\n",
       "       88.70313544, 89.25019159, 88.30587333, 88.30594055, 89.38400388,\n",
       "       88.30598617, 89.41745695, 89.04750532, 88.30598665, 88.30593071,\n",
       "       88.30591991, 88.47880307, 88.30606899, 88.70903893, 88.30601954,\n",
       "       88.30604979, 88.30607284, 89.03373052, 89.34071167, 89.99009486,\n",
       "       88.982567  , 88.30598377, 89.68508154, 88.68936065, 88.39812213,\n",
       "       88.30606491, 88.30604955, 89.26986986, 88.30590118, 88.3060109 ,\n",
       "       88.48470655])"
      ]
     },
     "execution_count": 79,
     "metadata": {},
     "output_type": "execute_result"
    }
   ],
   "source": [
    "y_pred"
   ]
  },
  {
   "cell_type": "code",
   "execution_count": 80,
   "id": "b9394789",
   "metadata": {},
   "outputs": [
    {
     "data": {
      "image/png": "[encoded data removed]",
      "text/plain": [
       "<Figure size 432x288 with 1 Axes>"
      ]
     },
     "metadata": {
      "needs_background": "light"
     },
     "output_type": "display_data"
    }
   ],
   "source": [
    "# Plotting the actual and predicted values\n",
    "\n",
    "c = [i for i in range (1,len(y_test)+1,1)]\n",
    "plt.plot(c,y_test,color='r',linestyle='-')\n",
    "plt.plot(c,y_pred,color='b',linestyle='-')\n",
    "plt.xlabel('Salary')\n",
    "plt.ylabel('index')\n",
    "plt.title('Prediction')\n",
    "plt.show()"
   ]
  },
  {
   "cell_type": "code",
   "execution_count": 81,
   "id": "c0db8ee4",
   "metadata": {},
   "outputs": [
    {
     "data": {
      "image/png": "[encoded data removed]",
      "text/plain": [
       "<Figure size 432x288 with 1 Axes>"
      ]
     },
     "metadata": {
      "needs_background": "light"
     },
     "output_type": "display_data"
    }
   ],
   "source": [
    "# plotting the error\n",
    "c = [i for i in range(1,len(y_test)+1,1)]\n",
    "plt.plot(c,y_test-y_pred,color='green',linestyle='-')\n",
    "plt.xlabel('index')\n",
    "plt.ylabel('Error')\n",
    "plt.title('Error Value')\n",
    "plt.show()"
   ]
  },
  {
   "cell_type": "code",
   "execution_count": 82,
   "id": "247e772a",
   "metadata": {},
   "outputs": [],
   "source": [
    "# Importing metrics for the evaluation of the model\n",
    "from sklearn.metrics import r2_score,mean_squared_error"
   ]
  },
  {
   "cell_type": "code",
   "execution_count": 83,
   "id": "1e261c15",
   "metadata": {},
   "outputs": [],
   "source": [
    "# calculate Mean square error\n",
    "mse = mean_squared_error(y_test,y_pred)"
   ]
  },
  {
   "cell_type": "code",
   "execution_count": 84,
   "id": "0c4cd5b7",
   "metadata": {},
   "outputs": [],
   "source": [
    "rsq = r2_score(y_test,y_pred)"
   ]
  },
  {
   "cell_type": "code",
   "execution_count": 85,
   "id": "fa027d17",
   "metadata": {},
   "outputs": [
    {
     "name": "stdout",
     "output_type": "stream",
     "text": [
      "mean squared error : 75.2956847061741\n",
      "r square : -0.00033018003643814353\n"
     ]
    }
   ],
   "source": [
    "print('mean squared error :',mse)\n",
    "print('r square :',rsq)"
   ]
  },
  {
   "cell_type": "code",
   "execution_count": 86,
   "id": "52b92bb2",
   "metadata": {},
   "outputs": [
    {
     "data": {
      "image/png": "[encoded data removed]",
      "text/plain": [
       "<Figure size 864x432 with 1 Axes>"
      ]
     },
     "metadata": {
      "needs_background": "light"
     },
     "output_type": "display_data"
    }
   ],
   "source": [
    "# Just plot actual and predicted values for more insights\n",
    "plt.figure(figsize=(12,6))\n",
    "plt.scatter(y_test,y_pred,color='r',linestyle='-')\n",
    "plt.show()"
   ]
  },
  {
   "cell_type": "code",
   "execution_count": 87,
   "id": "bd4bef1e",
   "metadata": {},
   "outputs": [
    {
     "name": "stdout",
     "output_type": "stream",
     "text": [
      "Intercept of the model: 86.02094599499992\n",
      "Coefficient of the line: [0.00196783]\n"
     ]
    }
   ],
   "source": [
    "# Intecept and coeff of the line\n",
    "print('Intercept of the model:',lr.intercept_)\n",
    "print('Coefficient of the line:',lr.coef_)"
   ]
  },
  {
   "cell_type": "code",
   "execution_count": 112,
   "id": "1daa3b22",
   "metadata": {},
   "outputs": [
    {
     "data": {
      "text/plain": [
       "(array([[1902.020374],\n",
       "        [1786.020374],\n",
       "        [1161.1342  ],\n",
       "        ...,\n",
       "        [1240.020374],\n",
       "        [1953.020374],\n",
       "        [1161.208742]]),\n",
       " array([[1161.158234],\n",
       "        [1161.138592],\n",
       "        [1161.17568 ],\n",
       "        [1189.020374],\n",
       "        [1161.177998],\n",
       "        [2035.020374],\n",
       "        [1161.152134],\n",
       "        [1161.24217 ],\n",
       "        [1161.131516],\n",
       "        [1161.168726],\n",
       "        [1907.020374],\n",
       "        [1161.19337 ],\n",
       "        [1161.237046],\n",
       "        [1161.23912 ],\n",
       "        [1161.143594],\n",
       "        [1188.020374],\n",
       "        [1526.020374],\n",
       "        [1541.020374],\n",
       "        [1515.020374],\n",
       "        [1161.157136],\n",
       "        [1670.020374],\n",
       "        [1482.020374],\n",
       "        [1577.020374],\n",
       "        [1161.178852],\n",
       "        [1848.020374],\n",
       "        [1161.229726],\n",
       "        [1529.020374],\n",
       "        [1161.14152 ],\n",
       "        [1716.020374],\n",
       "        [1898.020374],\n",
       "        [1660.020374],\n",
       "        [1161.194712],\n",
       "        [1161.13847 ],\n",
       "        [1337.020374],\n",
       "        [1161.169824],\n",
       "        [1161.170556],\n",
       "        [1161.17934 ],\n",
       "        [1161.22143 ],\n",
       "        [1217.020374],\n",
       "        [1192.020374],\n",
       "        [1161.144326],\n",
       "        [1161.15799 ],\n",
       "        [1703.020374],\n",
       "        [1635.020374],\n",
       "        [1846.020374],\n",
       "        [1161.238266],\n",
       "        [1161.1769  ],\n",
       "        [1420.020374],\n",
       "        [1624.020374],\n",
       "        [1161.140056],\n",
       "        [1314.020374],\n",
       "        [2021.020374],\n",
       "        [1535.020374],\n",
       "        [1161.207888],\n",
       "        [1161.211182],\n",
       "        [1161.22936 ],\n",
       "        [1236.020374],\n",
       "        [1690.020374],\n",
       "        [1643.020374],\n",
       "        [1218.020374],\n",
       "        [1522.020374],\n",
       "        [1722.020374],\n",
       "        [1608.020374],\n",
       "        [1161.161406],\n",
       "        [1836.020374],\n",
       "        [1268.020374],\n",
       "        [1354.020374],\n",
       "        [1161.227774],\n",
       "        [1653.020374],\n",
       "        [1161.213134],\n",
       "        [1161.150548],\n",
       "        [1161.240706],\n",
       "        [1161.229116],\n",
       "        [1161.22875 ],\n",
       "        [1161.138836],\n",
       "        [1161.189222],\n",
       "        [1232.020374],\n",
       "        [1161.228018],\n",
       "        [1271.020374],\n",
       "        [1161.136762],\n",
       "        [1161.182878],\n",
       "        [1802.020374],\n",
       "        [1161.189466],\n",
       "        [1161.184464],\n",
       "        [1560.020374],\n",
       "        [1161.187148],\n",
       "        [1161.188002],\n",
       "        [1161.207644],\n",
       "        [1471.020374],\n",
       "        [1450.020374],\n",
       "        [1161.155184],\n",
       "        [1161.131882],\n",
       "        [1892.020374],\n",
       "        [1161.242048],\n",
       "        [1849.020374],\n",
       "        [1184.020374],\n",
       "        [1161.183732],\n",
       "        [1161.155428],\n",
       "        [1968.020374],\n",
       "        [1352.020374],\n",
       "        [1161.178974],\n",
       "        [1161.135664],\n",
       "        [1448.020374],\n",
       "        [1161.13054 ],\n",
       "        [1161.139446],\n",
       "        [2012.020374],\n",
       "        [1863.020374],\n",
       "        [1161.17324 ],\n",
       "        [1790.020374],\n",
       "        [1295.020374],\n",
       "        [1161.135786],\n",
       "        [2025.020374],\n",
       "        [1161.16592 ],\n",
       "        [1386.020374],\n",
       "        [1429.020374],\n",
       "        [1161.208132],\n",
       "        [2041.020374],\n",
       "        [1962.020374],\n",
       "        [1950.020374],\n",
       "        [1552.020374],\n",
       "        [1664.020374],\n",
       "        [1694.020374],\n",
       "        [1161.14884 ],\n",
       "        [1173.020374],\n",
       "        [1807.020374],\n",
       "        [1936.020374],\n",
       "        [1161.19886 ],\n",
       "        [1161.215696],\n",
       "        [1742.020374],\n",
       "        [1584.020374],\n",
       "        [1161.219844],\n",
       "        [1161.155916],\n",
       "        [1161.239608],\n",
       "        [1490.020374],\n",
       "        [1502.020374],\n",
       "        [1772.020374],\n",
       "        [1161.240584],\n",
       "        [1161.148352],\n",
       "        [1161.227286],\n",
       "        [1331.020374],\n",
       "        [1161.15433 ],\n",
       "        [1857.020374],\n",
       "        [1161.221064],\n",
       "        [1161.177022],\n",
       "        [2038.020374],\n",
       "        [1359.020374],\n",
       "        [1389.020374],\n",
       "        [1161.161894],\n",
       "        [1277.020374],\n",
       "        [1595.020374],\n",
       "        [1678.020374],\n",
       "        [1763.020374],\n",
       "        [1161.217404],\n",
       "        [1161.155062],\n",
       "        [1161.21716 ],\n",
       "        [2053.020374],\n",
       "        [2002.020374],\n",
       "        [1334.020374],\n",
       "        [1161.243512],\n",
       "        [1161.218868],\n",
       "        [1161.213622],\n",
       "        [1161.200202],\n",
       "        [1304.020374],\n",
       "        [1644.020374],\n",
       "        [1734.020374],\n",
       "        [1161.242414],\n",
       "        [1161.241926],\n",
       "        [1362.020374],\n",
       "        [1365.020374],\n",
       "        [1161.157502],\n",
       "        [1811.020374],\n",
       "        [1161.143716],\n",
       "        [2062.020374],\n",
       "        [1161.209718],\n",
       "        [1161.13115 ],\n",
       "        [1161.178364],\n",
       "        [1753.020374],\n",
       "        [1438.020374],\n",
       "        [1161.214232],\n",
       "        [1682.020374],\n",
       "        [1491.020374],\n",
       "        [1756.020374],\n",
       "        [1161.192882],\n",
       "        [1161.234728],\n",
       "        [1402.020374],\n",
       "        [1161.229848],\n",
       "        [1351.020374],\n",
       "        [1588.020374],\n",
       "        [1161.138104],\n",
       "        [1300.020374],\n",
       "        [1161.242292],\n",
       "        [1828.020374],\n",
       "        [1975.020374],\n",
       "        [1775.020374],\n",
       "        [1575.020374],\n",
       "        [1298.020374],\n",
       "        [1384.020374],\n",
       "        [1161.147498],\n",
       "        [1706.020374],\n",
       "        [1161.23668 ],\n",
       "        [1574.020374],\n",
       "        [2059.020374],\n",
       "        [1161.159698],\n",
       "        [1817.020374],\n",
       "        [1161.242536],\n",
       "        [1532.020374],\n",
       "        [1161.19642 ],\n",
       "        [1161.201544],\n",
       "        [1430.020374],\n",
       "        [1808.020374],\n",
       "        [1161.225944],\n",
       "        [1411.020374],\n",
       "        [1161.194346],\n",
       "        [1562.020374],\n",
       "        [1161.197274],\n",
       "        [1161.150914],\n",
       "        [1161.182024],\n",
       "        [1161.194834],\n",
       "        [1161.184952],\n",
       "        [1161.235826],\n",
       "        [1180.020374],\n",
       "        [1161.238022],\n",
       "        [1161.134078],\n",
       "        [1912.020374],\n",
       "        [1161.158112],\n",
       "        [1161.156892],\n",
       "        [1161.199104],\n",
       "        [1161.239974],\n",
       "        [1161.133224],\n",
       "        [1680.020374],\n",
       "        [1161.17995 ],\n",
       "        [1201.020374],\n",
       "        [1161.204594],\n",
       "        [1161.142252],\n",
       "        [1313.020374],\n",
       "        [1161.137982],\n",
       "        [1161.193492],\n",
       "        [1611.020374],\n",
       "        [1364.020374],\n",
       "        [1170.020374],\n",
       "        [1161.167018],\n",
       "        [1966.020374],\n",
       "        [1803.020374],\n",
       "        [1161.223138],\n",
       "        [1161.172752],\n",
       "        [1285.020374],\n",
       "        [1771.020374],\n",
       "        [1161.241194],\n",
       "        [1508.020374],\n",
       "        [1161.17446 ],\n",
       "        [2051.020374],\n",
       "        [2037.020374],\n",
       "        [1417.020374],\n",
       "        [1528.020374],\n",
       "        [1161.178486],\n",
       "        [1161.169458],\n",
       "        [1272.020374],\n",
       "        [1191.020374],\n",
       "        [1190.020374],\n",
       "        [1161.186172],\n",
       "        [1161.155794],\n",
       "        [1161.169336],\n",
       "        [1161.169214],\n",
       "        [1428.020374],\n",
       "        [1161.196542],\n",
       "        [1161.16958 ],\n",
       "        [2030.020374],\n",
       "        [1161.22692 ],\n",
       "        [1161.19215 ],\n",
       "        [1262.020374],\n",
       "        [1161.241438],\n",
       "        [1686.020374],\n",
       "        [1161.180682],\n",
       "        [1161.227042],\n",
       "        [1161.134932],\n",
       "        [2006.020374],\n",
       "        [1161.141276],\n",
       "        [1161.142984],\n",
       "        [1422.020374],\n",
       "        [1951.020374],\n",
       "        [1161.15921 ],\n",
       "        [1161.21838 ],\n",
       "        [1746.020374],\n",
       "        [1760.020374],\n",
       "        [1809.020374],\n",
       "        [1161.22204 ],\n",
       "        [1563.020374],\n",
       "        [1927.020374],\n",
       "        [1161.192394],\n",
       "        [1884.020374],\n",
       "        [1161.13786 ],\n",
       "        [1161.230458],\n",
       "        [1161.20618 ],\n",
       "        [1161.202642],\n",
       "        [1161.187026],\n",
       "        [1161.130906],\n",
       "        [1785.020374],\n",
       "        [1346.020374],\n",
       "        [1569.020374],\n",
       "        [1161.197762],\n",
       "        [1393.020374],\n",
       "        [1161.180316],\n",
       "        [1516.020374],\n",
       "        [1161.157258],\n",
       "        [1161.213012],\n",
       "        [1161.218014],\n",
       "        [1783.020374],\n",
       "        [1847.020374],\n",
       "        [1908.020374],\n",
       "        [1161.163846],\n",
       "        [1161.136152],\n",
       "        [1161.134444],\n",
       "        [1903.020374],\n",
       "        [1161.209108],\n",
       "        [1497.020374],\n",
       "        [1729.020374],\n",
       "        [1320.020374],\n",
       "        [1451.020374],\n",
       "        [1161.220942],\n",
       "        [1161.22326 ],\n",
       "        [1161.225334],\n",
       "        [1161.192516],\n",
       "        [1161.166164],\n",
       "        [1161.229238],\n",
       "        [1161.205082],\n",
       "        [1161.193248],\n",
       "        [1279.020374],\n",
       "        [1161.205448],\n",
       "        [1161.235216],\n",
       "        [1161.219234],\n",
       "        [1732.020374],\n",
       "        [1161.158722],\n",
       "        [1419.020374],\n",
       "        [1161.17629 ],\n",
       "        [1997.020374],\n",
       "        [1161.142496],\n",
       "        [1161.13725 ],\n",
       "        [1161.205326],\n",
       "        [1161.160552],\n",
       "        [1161.237534],\n",
       "        [1335.020374],\n",
       "        [1161.166652],\n",
       "        [1161.214476],\n",
       "        [1161.222894],\n",
       "        [1161.197396],\n",
       "        [1161.218746],\n",
       "        [1991.020374],\n",
       "        [1161.16287 ],\n",
       "        [2003.020374],\n",
       "        [1533.020374],\n",
       "        [1161.139324],\n",
       "        [1161.147986],\n",
       "        [1228.020374],\n",
       "        [1161.218624],\n",
       "        [1325.020374],\n",
       "        [1349.020374],\n",
       "        [1161.238144],\n",
       "        [1699.020374],\n",
       "        [1431.020374],\n",
       "        [1161.200812],\n",
       "        [1161.135908],\n",
       "        [1161.212158],\n",
       "        [1947.020374],\n",
       "        [1161.170312],\n",
       "        [1377.020374],\n",
       "        [1161.213866],\n",
       "        [1161.189588],\n",
       "        [1460.020374],\n",
       "        [1749.020374],\n",
       "        [1459.020374],\n",
       "        [1161.180072],\n",
       "        [1161.185318],\n",
       "        [1399.020374],\n",
       "        [1330.020374],\n",
       "        [1183.020374],\n",
       "        [1161.197518],\n",
       "        [1161.154208],\n",
       "        [1572.020374],\n",
       "        [2052.020374],\n",
       "        [1506.020374],\n",
       "        [1161.145058],\n",
       "        [1206.020374],\n",
       "        [1161.227164],\n",
       "        [1721.020374],\n",
       "        [1161.15128 ],\n",
       "        [1648.020374],\n",
       "        [1446.020374],\n",
       "        [1161.159942],\n",
       "        [1161.228872],\n",
       "        [1510.020374],\n",
       "        [1613.020374],\n",
       "        [1303.020374],\n",
       "        [1945.020374],\n",
       "        [1161.216062],\n",
       "        [1161.174948],\n",
       "        [1479.020374],\n",
       "        [1998.020374],\n",
       "        [1161.19154 ],\n",
       "        [1161.218502],\n",
       "        [1551.020374],\n",
       "        [1744.020374],\n",
       "        [1872.020374],\n",
       "        [1161.226188],\n",
       "        [1161.217526],\n",
       "        [1830.020374],\n",
       "        [1161.145546],\n",
       "        [1410.020374],\n",
       "        [1161.2074  ],\n",
       "        [1161.197152],\n",
       "        [1161.158844],\n",
       "        [1161.17812 ],\n",
       "        [1161.143228],\n",
       "        [1594.020374],\n",
       "        [1161.230214],\n",
       "        [1436.020374],\n",
       "        [1161.165066],\n",
       "        [1161.224846],\n",
       "        [1161.233996],\n",
       "        [1161.231678],\n",
       "        [1161.175924],\n",
       "        [1161.202398],\n",
       "        [1264.020374],\n",
       "        [1710.020374],\n",
       "        [1982.020374],\n",
       "        [1161.211426],\n",
       "        [1161.144448],\n",
       "        [1161.195566],\n",
       "        [1161.137128],\n",
       "        [1161.228506],\n",
       "        [1161.190442],\n",
       "        [1938.020374],\n",
       "        [1495.020374],\n",
       "        [1691.020374],\n",
       "        [1587.020374],\n",
       "        [1869.020374],\n",
       "        [1831.020374],\n",
       "        [1986.020374],\n",
       "        [1161.164944],\n",
       "        [1449.020374],\n",
       "        [1315.020374],\n",
       "        [1258.020374],\n",
       "        [1161.216306],\n",
       "        [1368.020374],\n",
       "        [1161.15189 ],\n",
       "        [1161.17507 ],\n",
       "        [1161.16653 ],\n",
       "        [1559.020374],\n",
       "        [1777.020374],\n",
       "        [1318.020374],\n",
       "        [1269.020374],\n",
       "        [1383.020374],\n",
       "        [1654.020374],\n",
       "        [1202.020374],\n",
       "        [1161.193736],\n",
       "        [1161.23424 ],\n",
       "        [1161.132126],\n",
       "        [1161.186416],\n",
       "        [1489.020374],\n",
       "        [1161.146644],\n",
       "        [1161.150182],\n",
       "        [1161.168848],\n",
       "        [1481.020374],\n",
       "        [1745.020374],\n",
       "        [1265.020374],\n",
       "        [1161.16043 ],\n",
       "        [1672.020374],\n",
       "        [1257.020374],\n",
       "        [1517.020374],\n",
       "        [1405.020374],\n",
       "        [1161.189832],\n",
       "        [1161.148718],\n",
       "        [1161.216794],\n",
       "        [1161.191174],\n",
       "        [1426.020374],\n",
       "        [2019.020374],\n",
       "        [1932.020374],\n",
       "        [1161.228628],\n",
       "        [1161.185196],\n",
       "        [1796.020374],\n",
       "        [1161.196176],\n",
       "        [1161.23058 ],\n",
       "        [1361.020374],\n",
       "        [1408.020374],\n",
       "        [1161.208498],\n",
       "        [1728.020374],\n",
       "        [1161.18544 ],\n",
       "        [1843.020374],\n",
       "        [1161.196298],\n",
       "        [1959.020374],\n",
       "        [1161.243878],\n",
       "        [1161.218136],\n",
       "        [1161.183976],\n",
       "        [1204.020374],\n",
       "        [1161.239852],\n",
       "        [1161.2318  ],\n",
       "        [1161.235948],\n",
       "        [1871.020374],\n",
       "        [1655.020374],\n",
       "        [1586.020374],\n",
       "        [1791.020374],\n",
       "        [1161.173484],\n",
       "        [2026.020374],\n",
       "        [1543.020374],\n",
       "        [1371.020374],\n",
       "        [1537.020374],\n",
       "        [1161.22753 ],\n",
       "        [1203.020374],\n",
       "        [1693.020374],\n",
       "        [1161.243634],\n",
       "        [2020.020374],\n",
       "        [1787.020374],\n",
       "        [1239.020374],\n",
       "        [1462.020374],\n",
       "        [1581.020374],\n",
       "        [1815.020374],\n",
       "        [1599.020374],\n",
       "        [1161.18605 ],\n",
       "        [1980.020374],\n",
       "        [1161.152866],\n",
       "        [1225.020374],\n",
       "        [1363.020374],\n",
       "        [1641.020374],\n",
       "        [1161.141886],\n",
       "        [1161.176046],\n",
       "        [1709.020374],\n",
       "        [1161.199226],\n",
       "        [1726.020374],\n",
       "        [1538.020374],\n",
       "        [1161.19947 ],\n",
       "        [1161.171044],\n",
       "        [1161.165554],\n",
       "        [1249.020374],\n",
       "        [1161.241316],\n",
       "        [1366.020374],\n",
       "        [1161.216184],\n",
       "        [1161.231556],\n",
       "        [1161.243268],\n",
       "        [1531.020374],\n",
       "        [1687.020374],\n",
       "        [2017.020374],\n",
       "        [1505.020374],\n",
       "        [1161.198006],\n",
       "        [1862.020374],\n",
       "        [1356.020374],\n",
       "        [1208.020374],\n",
       "        [1161.239242],\n",
       "        [1161.231434],\n",
       "        [1651.020374],\n",
       "        [1161.156038],\n",
       "        [1161.211792],\n",
       "        [1252.020374]]),\n",
       " 741      88.856174\n",
       " 625      88.845272\n",
       " 933      89.082766\n",
       " 1457     89.543323\n",
       " 1140     89.347680\n",
       "            ...    \n",
       " 53       99.974419\n",
       " 350      91.496755\n",
       " 79      114.529324\n",
       " 792      88.990412\n",
       " 1544     89.693265\n",
       " Name: Power Output, Length: 1283, dtype: float64,\n",
       " 1130     89.341940\n",
       " 969      89.100308\n",
       " 1273     89.502267\n",
       " 28       44.356216\n",
       " 1292     89.559973\n",
       "            ...    \n",
       " 1730     89.836295\n",
       " 490      88.688890\n",
       " 1112     89.182446\n",
       " 1569     89.667655\n",
       " 91      106.951564\n",
       " Name: Power Output, Length: 551, dtype: float64)"
      ]
     },
     "execution_count": 112,
     "metadata": {},
     "output_type": "execute_result"
    }
   ],
   "source": [
    "X_train,X_test,y_train,y_test"
   ]
  },
  {
   "cell_type": "code",
   "execution_count": 113,
   "id": "a6dfd2a5",
   "metadata": {},
   "outputs": [],
   "source": [
    "from sklearn.cluster import KMeans"
   ]
  },
  {
   "cell_type": "code",
   "execution_count": 118,
   "id": "0af8f4e6",
   "metadata": {},
   "outputs": [],
   "source": [
    "kmeans = KMeans(n_clusters=2)\n",
    "df_analyze = df.drop('Temperature',axis=1)"
   ]
  },
  {
   "cell_type": "code",
   "execution_count": 119,
   "id": "00ddb730",
   "metadata": {},
   "outputs": [
    {
     "data": {
      "text/plain": [
       "KMeans(n_clusters=2)"
      ]
     },
     "execution_count": 119,
     "metadata": {},
     "output_type": "execute_result"
    }
   ],
   "source": [
    "kmeans.fit(df_analyze)"
   ]
  },
  {
   "cell_type": "code",
   "execution_count": 120,
   "id": "b9f9c7b7",
   "metadata": {},
   "outputs": [
    {
     "data": {
      "text/plain": [
       "array([[1776.020374  ,   89.16756047],\n",
       "       [1203.93194436,   88.70685847]])"
      ]
     },
     "execution_count": 120,
     "metadata": {},
     "output_type": "execute_result"
    }
   ],
   "source": [
    "kmeans.cluster_centers_"
   ]
  },
  {
   "cell_type": "code",
   "execution_count": 121,
   "id": "aee54a58",
   "metadata": {},
   "outputs": [
    {
     "name": "stdout",
     "output_type": "stream",
     "text": [
      "[1 1 1 ... 1 1 1]\n",
      "1834\n"
     ]
    }
   ],
   "source": [
    "print (kmeans.labels_)\n",
    "print (len(kmeans.labels_))"
   ]
  },
  {
   "cell_type": "code",
   "execution_count": 126,
   "id": "72b1e35a",
   "metadata": {},
   "outputs": [
    {
     "name": "stdout",
     "output_type": "stream",
     "text": [
      "[1 1 1 ... 1 1 1]\n",
      "1130     89.341940\n",
      "969      89.100308\n",
      "1273     89.502267\n",
      "28       44.356216\n",
      "1292     89.559973\n",
      "           ...    \n",
      "1730     89.836295\n",
      "490      88.688890\n",
      "1112     89.182446\n",
      "1569     89.667655\n",
      "91      106.951564\n",
      "Name: Power Output, Length: 551, dtype: float64\n"
     ]
    }
   ],
   "source": [
    "print(kmeans.labels_)\n",
    "print(y_test)"
   ]
  },
  {
   "cell_type": "code",
   "execution_count": 131,
   "id": "d52f4b7a",
   "metadata": {},
   "outputs": [
    {
     "name": "stdout",
     "output_type": "stream",
     "text": [
      "[1 1 1 ... 1 1 1]\n"
     ]
    }
   ],
   "source": [
    "df2 =df.drop('Temperature',axis=1)\n",
    "df2\n",
    "print(kmeans.predict(df2))"
   ]
  },
  {
   "cell_type": "code",
   "execution_count": 132,
   "id": "f9e04a09",
   "metadata": {},
   "outputs": [
    {
     "name": "stderr",
     "output_type": "stream",
     "text": [
      "C:\\Users\\Kapil\\AppData\\Roaming\\Python\\Python39\\site-packages\\seaborn\\_decorators.py:36: FutureWarning: Pass the following variables as keyword args: x, y. From version 0.12, the only valid positional argument will be `data`, and passing other arguments without an explicit keyword will result in an error or misinterpretation.\n",
      "  warnings.warn(\n",
      "C:\\Users\\Kapil\\AppData\\Roaming\\Python\\Python39\\site-packages\\seaborn\\regression.py:580: UserWarning: The `size` parameter has been renamed to `height`; please update your code.\n",
      "  warnings.warn(msg, UserWarning)\n"
     ]
    },
    {
     "data": {
      "text/plain": [
       "<seaborn.axisgrid.FacetGrid at 0x134daed51c0>"
      ]
     },
     "execution_count": 132,
     "metadata": {},
     "output_type": "execute_result"
    },
    {
     "data": {
      "image/png": "[encoded data removed]",
      "text/plain": [
       "<Figure size 473.625x432 with 1 Axes>"
      ]
     },
     "metadata": {},
     "output_type": "display_data"
    }
   ],
   "source": [
    "# plot the data \n",
    "df_analyze['cluster'] = kmeans.labels_\n",
    "sns.set_style('whitegrid')\n",
    "sns.lmplot('Irradiance','Power Output',data=df_analyze, hue='cluster',\n",
    "           palette='coolwarm',size=6,aspect=1,fit_reg=False)"
   ]
  },
  {
   "cell_type": "code",
   "execution_count": 135,
   "id": "81a8bcb1",
   "metadata": {},
   "outputs": [
    {
     "name": "stdout",
     "output_type": "stream",
     "text": [
      "[[1170.24191338   88.15273557]\n",
      " [1685.520374     88.90177137]\n",
      " [1429.520374     91.64800092]\n",
      " [1937.520374     88.90557593]]\n",
      "{0: 1071, 1: 254, 2: 258, 3: 251}\n"
     ]
    },
    {
     "name": "stderr",
     "output_type": "stream",
     "text": [
      "C:\\Users\\Kapil\\AppData\\Roaming\\Python\\Python39\\site-packages\\seaborn\\_decorators.py:36: FutureWarning: Pass the following variables as keyword args: x, y. From version 0.12, the only valid positional argument will be `data`, and passing other arguments without an explicit keyword will result in an error or misinterpretation.\n",
      "  warnings.warn(\n",
      "C:\\Users\\Kapil\\AppData\\Roaming\\Python\\Python39\\site-packages\\seaborn\\regression.py:580: UserWarning: The `size` parameter has been renamed to `height`; please update your code.\n",
      "  warnings.warn(msg, UserWarning)\n"
     ]
    },
    {
     "data": {
      "text/plain": [
       "<seaborn.axisgrid.FacetGrid at 0x134da253dc0>"
      ]
     },
     "execution_count": 135,
     "metadata": {},
     "output_type": "execute_result"
    },
    {
     "data": {
      "image/png": "[encoded data removed]",
      "text/plain": [
       "<Figure size 473.625x432 with 1 Axes>"
      ]
     },
     "metadata": {},
     "output_type": "display_data"
    }
   ],
   "source": [
    "kmeans_4 = KMeans(n_clusters=4)\n",
    "kmeans_4.fit(df2)\n",
    "kmeans_4.fit(df2)\n",
    "print(kmeans_4.cluster_centers_)\t\n",
    "unique, counts = np.unique(kmeans_4.labels_, return_counts=True)\n",
    "\n",
    "kmeans_4.cluster_centers_\n",
    "print(dict(zip(unique, counts)))\n",
    "# plot the data \n",
    "df_analyze['cluster'] = kmeans_4.labels_\n",
    "sns.set_style('whitegrid')\n",
    "sns.lmplot('Irradiance','Power Output',data=df_analyze, hue='cluster',\n",
    "           palette='coolwarm',size=6,aspect=1,fit_reg=False)"
   ]
  },
  {
   "cell_type": "code",
   "execution_count": null,
   "id": "f7aecf2f",
   "metadata": {},
   "outputs": [],
   "source": []
  }
 ],
 "metadata": {
  "kernelspec": {
   "display_name": "Python 3 (ipykernel)",
   "language": "python",
   "name": "python3"
  },
  "language_info": {
   "codemirror_mode": {
    "name": "ipython",
    "version": 3
   },
   "file_extension": ".py",
   "mimetype": "text/x-python",
   "name": "python",
   "nbconvert_exporter": "python",
   "pygments_lexer": "ipython3",
   "version": "3.9.6"
  }
 },
 "nbformat": 4,
 "nbformat_minor": 5
}
